{
 "cells": [
  {
   "cell_type": "code",
   "execution_count": 1,
   "id": "da88310f-bd4f-469c-9d3c-17eedf2da169",
   "metadata": {},
   "outputs": [],
   "source": [
    "# 거리 기반으로 반경 1km내 음식점 필터링\n",
    "from math import sin, cos, sqrt, atan2, radians\n",
    "from sklearn.metrics.pairwise import cosine_similarity\n",
    "import pandas as pd\n",
    "import numpy as np\n",
    "import os"
   ]
  },
  {
   "cell_type": "code",
   "execution_count": 2,
   "id": "a5c42aa3-0ef2-4afd-af95-c24b55295d2c",
   "metadata": {},
   "outputs": [],
   "source": [
    "# 예제\n",
    "data_dir = './data/'\n",
    "food_path = os.path.join(data_dir, 'food.csv')\n",
    "place = pd.read_csv(food_path)\n",
    "place['placeID'] = place.apply(lambda x : x['placeName'] + x['placeAddress'], axis = 1)\n",
    "place['placeID'] = place['placeID'].apply(lambda x : x.replace(\" \", \"\"))\n",
    "place['map'] = place[['longitude','latitude']].apply(lambda x: tuple(x.values),axis=1)"
   ]
  },
  {
   "cell_type": "code",
   "execution_count": 2,
   "id": "7083b6be",
   "metadata": {},
   "outputs": [],
   "source": [
    "R = 6373.0\n",
    "def distance_from_coord(o_coord, d_coord):\n",
    "    x1, y1 = radians(o_coord[0]), radians(o_coord[1])\n",
    "    x2, y2 = radians(d_coord[0]), radians(d_coord[1])\n",
    "    dlon = x2 - x1\n",
    "    dlat = y2 - y1\n",
    "    a = sin(dlat / 2)**2 + cos(y1) * cos(y2) * sin(dlon / 2)**2 \n",
    "    c = 2 * atan2(sqrt(a), sqrt(1 - a))    \n",
    "    return R * c\n",
    "\n",
    "def filtermap(coor,r=1):\n",
    "    name=[]\n",
    "    for idx,plc in enumerate(place['map']):\n",
    "        if distance_from_coord(coor,plc)<=1:\n",
    "            name.append(place.loc[idx]['placeID'])\n",
    "    return name"
   ]
  },
  {
   "cell_type": "code",
   "execution_count": 8,
   "id": "6ac84847",
   "metadata": {},
   "outputs": [],
   "source": [
    "def create_embedding_file() :\n",
    "    embed_path = os.path.join(data_dir, 'metapath_embeddings')\n",
    "    with open(embed_path, 'r') as f:\n",
    "        id2word_len, emb_dimension = f.readline().split()\n",
    "        id2word = {}\n",
    "        word2id = {}\n",
    "        embeddings = []\n",
    "        idx = 0\n",
    "        while True :\n",
    "            z = f.readline()\n",
    "            if not z :\n",
    "                break\n",
    "            z = z.split()\n",
    "            word = z[0]\n",
    "            embedding = list(map(float, z[1:]))\n",
    "            embeddings.append(embedding)\n",
    "            id2word[idx] = word\n",
    "            word2id[word] = idx\n",
    "            idx += 1\n",
    "    return id2word, word2id, embeddings"
   ]
  },
  {
   "cell_type": "code",
   "execution_count": 48,
   "id": "37dbafbd",
   "metadata": {},
   "outputs": [],
   "source": [
    "id2place, place2id, place_emb = create_embedding_file()\n",
    "cossim = cosine_similarity(np.array(place_emb))"
   ]
  },
  {
   "cell_type": "code",
   "execution_count": 68,
   "id": "2aa4d8fe",
   "metadata": {},
   "outputs": [],
   "source": [
    "def get_nearest_cossim(nearest_list, k=5):\n",
    "    nearest_ids = [place2id[n] for n in nearest_list]\n",
    "    cossim = cosine_similarity(np.array(place_emb))\n",
    "    nearest_cossim = cossim[nearest_ids[0], nearest_ids[1:]]\n",
    "    topk = np.argsort(nearest_cossim)[::-1][:k]\n",
    "    return [nearest_ids[i] for i in topk]"
   ]
  },
  {
   "cell_type": "code",
   "execution_count": 69,
   "id": "d2436bae",
   "metadata": {},
   "outputs": [],
   "source": [
    "nearest_list = filtermap((126.9566625, 37.5507711))\n",
    "topk = get_nearest_cossim(nearest_list)\n",
    "topk"
   ]
  },
  {
   "cell_type": "code",
   "execution_count": 71,
   "id": "c28d13c8",
   "metadata": {},
   "outputs": [
    {
     "data": {
      "text/plain": [
       "('싸다김밥애오개역점서울마포구마포대로1821층',\n",
       " '일신기사식당서울용산구효창원로218리챠드빌딩',\n",
       " '대청마루서울마포구굴레방로9길3',\n",
       " '태능숯불갈비서울마포구굴레방로19-1',\n",
       " '37.5익스프레스공덕점서울마포구마포대로11길44-19')"
      ]
     },
     "execution_count": 71,
     "metadata": {},
     "output_type": "execute_result"
    }
   ],
   "source": [
    "id2place[4810], id2place[6844], id2place[11856], id2place[8431], id2place[2033]"
   ]
  }
 ],
 "metadata": {
  "interpreter": {
   "hash": "bb38b1d5dc17143af8c4be1110e85aba63a39da7f5e57e9420b18116c934763b"
  },
  "kernelspec": {
   "display_name": "Python 3.8.13 ('py38')",
   "language": "python",
   "name": "python3"
  },
  "language_info": {
   "codemirror_mode": {
    "name": "ipython",
    "version": 3
   },
   "file_extension": ".py",
   "mimetype": "text/x-python",
   "name": "python",
   "nbconvert_exporter": "python",
   "pygments_lexer": "ipython3",
   "version": "3.8.13"
  }
 },
 "nbformat": 4,
 "nbformat_minor": 5
}
