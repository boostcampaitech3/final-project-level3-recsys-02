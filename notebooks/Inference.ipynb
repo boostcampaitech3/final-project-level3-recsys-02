{
 "cells": [
  {
   "cell_type": "code",
   "execution_count": 4,
   "id": "da88310f-bd4f-469c-9d3c-17eedf2da169",
   "metadata": {},
   "outputs": [],
   "source": [
    "# 거리 기반으로 반경 1km내 음식점 필터링\n",
    "from math import sin, cos, sqrt, atan2, radians\n",
    "R = 6373.0\n",
    "def distance_from_coord(o_coord, d_coord):\n",
    "    x1, y1 = radians(o_coord[0]), radians(o_coord[1])\n",
    "    x2, y2 = radians(d_coord[0]), radians(d_coord[1])\n",
    "    dlon = x2 - x1\n",
    "    dlat = y2 - y1\n",
    "    a = sin(dlat / 2)**2 + cos(y1) * cos(y2) * sin(dlon / 2)**2 \n",
    "    c = 2 * atan2(sqrt(a), sqrt(1 - a))    \n",
    "    return R * c\n",
    "\n",
    "def filtermap(coor,r=1):\n",
    "    name=[]\n",
    "    for idx,plc in enumerate(place['map']):\n",
    "        if distance_from_coord(coor,plc)<=1:\n",
    "            name.append(place.loc[idx]['placeName'])\n",
    "    return name"
   ]
  },
  {
   "cell_type": "code",
   "execution_count": null,
   "id": "a5c42aa3-0ef2-4afd-af95-c24b55295d2c",
   "metadata": {},
   "outputs": [],
   "source": [
    "# 예제\n",
    "import pandas as pd\n",
    "place = pd.read_csv('placeFeatureEngineering.csv')\n",
    "place['map'] = place[['longitude','latitude']].apply(lambda x: tuple(x.values),axis=1)"
   ]
  },
  {
   "cell_type": "code",
   "execution_count": 65,
   "id": "eacc90ef-399b-4ce6-a04b-7d5c63a1a33c",
   "metadata": {},
   "outputs": [
    {
     "data": {
      "text/plain": [
       "('청계다방', (127.0560482, 37.44354))"
      ]
     },
     "execution_count": 65,
     "metadata": {},
     "output_type": "execute_result"
    }
   ],
   "source": [
    "place.loc[0]['placeName'], place.loc[0]['map']"
   ]
  },
  {
   "cell_type": "code",
   "execution_count": 63,
   "id": "a29c3521-15bb-427e-bfaa-18b76e9af6c5",
   "metadata": {},
   "outputs": [
    {
     "data": {
      "text/plain": [
       "['청계다방',\n",
       " '날이 좋아서',\n",
       " '청담설렁탕&순대국',\n",
       " '37.5 청계산점',\n",
       " '웰빙다시마청계산김밥',\n",
       " '리숨두부',\n",
       " '던킨 양재하나로점',\n",
       " '원터',\n",
       " '청계산성',\n",
       " '영주축협한우프라자 청계산역점',\n",
       " '대독장 서초청계산점',\n",
       " '웰빙식당',\n",
       " '네이처셀캠프 청계산점',\n",
       " '101커피컨테이너 청계산점',\n",
       " '청계산장수촌',\n",
       " '와니스핸드메이드',\n",
       " '황둔찐빵',\n",
       " '청계산곤드레집',\n",
       " '소호정 청계산점',\n",
       " '얌샘김밥 양재하나로마트점',\n",
       " '소백관',\n",
       " '동지섣달꽃본듯이',\n",
       " '소담채',\n",
       " '청계산맛고을',\n",
       " '카페누모 청계산입구역점',\n",
       " '부안애서',\n",
       " '애마오리 서초청계산점',\n",
       " '느티나무봉덕이네',\n",
       " '함평천지한우',\n",
       " '롯데리아 청계산입구역점',\n",
       " '솟솟618카페',\n",
       " '소복소복 양재농협하나로클럽점',\n",
       " '맷돌로만 청계산점',\n",
       " '두꺼비산장',\n",
       " '동글이꼬마김밥',\n",
       " '와라스시앤참치',\n",
       " '서초본가',\n",
       " '에세스커피',\n",
       " '전집',\n",
       " '봉평막국수',\n",
       " '미미호두',\n",
       " '커스틀리히 플라츠',\n",
       " '황제능이삼계탕',\n",
       " '서시포차',\n",
       " '까페해도씨',\n",
       " '석운가든',\n",
       " '본전',\n",
       " '제일제면소 양재 하나로점',\n",
       " '샘실떡방',\n",
       " '도토리',\n",
       " '청계산커피하우스',\n",
       " '국수나무 그린청계산역점',\n",
       " '조가네남원추어탕본점',\n",
       " '서산공원',\n",
       " '한소반 청계산점',\n",
       " '청계산 명가',\n",
       " '세컨클락',\n",
       " '보현재',\n",
       " '청계숲설렁탕',\n",
       " '진배족발 청계산점',\n",
       " '투썸플레이스 청계산입구역점',\n",
       " '별난횟집양재점',\n",
       " '파리바게뜨 양재하나로점',\n",
       " '미스터고트',\n",
       " '카페어썸',\n",
       " '김정환코다리']"
      ]
     },
     "execution_count": 63,
     "metadata": {},
     "output_type": "execute_result"
    }
   ],
   "source": [
    "filtermap((127.0560482, 37.44354))"
   ]
  }
 ],
 "metadata": {
  "kernelspec": {
   "display_name": "Python 3 (ipykernel)",
   "language": "python",
   "name": "python3"
  },
  "language_info": {
   "codemirror_mode": {
    "name": "ipython",
    "version": 3
   },
   "file_extension": ".py",
   "mimetype": "text/x-python",
   "name": "python",
   "nbconvert_exporter": "python",
   "pygments_lexer": "ipython3",
   "version": "3.8.5"
  }
 },
 "nbformat": 4,
 "nbformat_minor": 5
}
