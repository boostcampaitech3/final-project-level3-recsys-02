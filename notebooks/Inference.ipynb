{
 "cells": [
  {
   "cell_type": "code",
   "execution_count": 1,
   "id": "da88310f-bd4f-469c-9d3c-17eedf2da169",
   "metadata": {},
   "outputs": [
    {
     "name": "stderr",
     "output_type": "stream",
     "text": [
      "<frozen importlib._bootstrap>:219: RuntimeWarning: scipy._lib.messagestream.MessageStream size changed, may indicate binary incompatibility. Expected 56 from C header, got 64 from PyObject\n"
     ]
    }
   ],
   "source": [
    "# 거리 기반으로 반경 1km내 음식점 필터링\n",
    "from math import sin, cos, sqrt, atan2, radians\n",
    "from sklearn.metrics.pairwise import cosine_similarity\n",
    "import pandas as pd\n",
    "import numpy as np\n",
    "import random\n",
    "import pickle\n",
    "from tqdm import tqdm\n",
    "import time\n",
    "import os"
   ]
  },
  {
   "cell_type": "code",
   "execution_count": 2,
   "id": "a5c42aa3-0ef2-4afd-af95-c24b55295d2c",
   "metadata": {},
   "outputs": [],
   "source": [
    "# 예제\n",
    "data_dir = '/opt/ml/final-project-level3-recsys-02/data/'\n",
    "food_path = os.path.join(data_dir, 'food.csv')\n",
    "place = pd.read_csv(food_path)\n",
    "place['placeID'] = place.apply(lambda x : x['placeName'] + x['placeAddress'], axis = 1)\n",
    "place['placeID'] = place['placeID'].apply(lambda x : x.replace(\" \", \"\"))\n",
    "place['map'] = place[['longitude','latitude']].apply(lambda x: tuple(x.values),axis=1)"
   ]
  },
  {
   "cell_type": "code",
   "execution_count": 3,
   "id": "9f34c6da",
   "metadata": {},
   "outputs": [],
   "source": [
    "place = place[~place.placeType.str.contains('성급')].reset_index().copy()"
   ]
  },
  {
   "cell_type": "code",
   "execution_count": 4,
   "id": "7083b6be",
   "metadata": {},
   "outputs": [],
   "source": [
    "R = 6373.0\n",
    "def distance_from_coord(o_coord, d_coord):\n",
    "    x1, y1 = radians(o_coord[0]), radians(o_coord[1])\n",
    "    x2, y2 = radians(d_coord[0]), radians(d_coord[1])\n",
    "    dlon = x2 - x1\n",
    "    dlat = y2 - y1\n",
    "    a = sin(dlat / 2)**2 + cos(y1) * cos(y2) * sin(dlon / 2)**2 \n",
    "    c = 2 * atan2(sqrt(a), sqrt(1 - a))    \n",
    "    return R * c\n",
    "\n",
    "def filtermap(coor,r=1):\n",
    "    name=[]\n",
    "    for idx,plc in enumerate(place['map']):\n",
    "        if distance_from_coord(coor,plc)<=1:\n",
    "            name.append(place.loc[idx]['placeID'])\n",
    "    return name"
   ]
  },
  {
   "cell_type": "code",
   "execution_count": 5,
   "id": "6ac84847",
   "metadata": {},
   "outputs": [],
   "source": [
    "def create_embedding_file() :\n",
    "    embed_path = os.path.join(data_dir, 'metapath_embeddings')\n",
    "    with open(embed_path, 'r') as f:\n",
    "        id2word_len, emb_dimension = f.readline().split()\n",
    "        id2word = {}\n",
    "        word2id = {}\n",
    "        embeddings = []\n",
    "        idx = 0\n",
    "        while True :\n",
    "            z = f.readline()\n",
    "            if not z :\n",
    "                break\n",
    "            z = z.split()\n",
    "            word = z[0]\n",
    "            embedding = list(map(float, z[1:]))\n",
    "            embeddings.append(embedding)\n",
    "            id2word[idx] = word\n",
    "            word2id[word] = idx\n",
    "            idx += 1\n",
    "    return id2word, word2id, embeddings"
   ]
  },
  {
   "cell_type": "code",
   "execution_count": 6,
   "id": "37dbafbd",
   "metadata": {},
   "outputs": [],
   "source": [
    "id2place, place2id, place_emb = create_embedding_file()\n",
    "cossim = cosine_similarity(np.array(place_emb))"
   ]
  },
  {
   "cell_type": "code",
   "execution_count": 7,
   "id": "2aa4d8fe",
   "metadata": {},
   "outputs": [],
   "source": [
    "def get_nearest_cossim(nearest_list, k=5):\n",
    "    nearest_ids = [place2id[n] for n in nearest_list]\n",
    "    nearest_cossim = cossim[nearest_ids[0], nearest_ids[1:]]\n",
    "    topk = np.argsort(nearest_cossim)[::-1][:k]\n",
    "    return [nearest_ids[i] for i in topk]"
   ]
  },
  {
   "cell_type": "code",
   "execution_count": 8,
   "id": "d2436bae",
   "metadata": {},
   "outputs": [
    {
     "data": {
      "text/plain": [
       "[2847, 11311, 2868, 1481, 7272]"
      ]
     },
     "execution_count": 8,
     "metadata": {},
     "output_type": "execute_result"
    }
   ],
   "source": [
    "nearest_list = filtermap((126.9566625, 37.5507711))\n",
    "topk = get_nearest_cossim(nearest_list)\n",
    "topk"
   ]
  },
  {
   "cell_type": "code",
   "execution_count": 9,
   "id": "c28d13c8",
   "metadata": {},
   "outputs": [
    {
     "data": {
      "text/plain": [
       "('놀부유황오리진흙구이신천점서울송파구올림픽로10길5파로스관광호텔',\n",
       " '뚝섬정지서울성동구성수일로39',\n",
       " '세련대게롯데마트수지점경기용인시수지구성복2로38롯데마트수지점2층',\n",
       " '반포식스잠실점서울송파구송파대로562한빛프라자지하1층',\n",
       " '프로젝트마도서울구로구디지털로32다길46')"
      ]
     },
     "execution_count": 9,
     "metadata": {},
     "output_type": "execute_result"
    }
   ],
   "source": [
    "id2place[4810], id2place[6844], id2place[11856], id2place[8431], id2place[2033]"
   ]
  },
  {
   "cell_type": "markdown",
   "id": "3aeb2d93",
   "metadata": {},
   "source": [
    "### performance check"
   ]
  },
  {
   "cell_type": "code",
   "execution_count": 10,
   "id": "947c9fc0",
   "metadata": {},
   "outputs": [],
   "source": [
    "f_df = pd.read_csv(data_dir + 'feature.csv')\n",
    "l_df = pd.read_csv(data_dir + 'like.csv')"
   ]
  },
  {
   "cell_type": "code",
   "execution_count": 11,
   "id": "2e037c96",
   "metadata": {},
   "outputs": [],
   "source": [
    "with open(data_dir + 'place_id2idx.pkl', 'rb') as f :\n",
    "    place_id2idx = pickle.load(f)"
   ]
  },
  {
   "cell_type": "code",
   "execution_count": 12,
   "id": "c556c356",
   "metadata": {},
   "outputs": [],
   "source": [
    "with open(data_dir + 'place_idx2id.pkl', 'rb') as f :\n",
    "    place_idx2id = pickle.load(f)"
   ]
  },
  {
   "cell_type": "code",
   "execution_count": 13,
   "id": "7d55a528",
   "metadata": {},
   "outputs": [],
   "source": [
    "def jaccard_similarity(list1, list2): \n",
    "    s1 = set(list1)\n",
    "    s2 = set(list2)\n",
    "    if len(s1.union(s2)):\n",
    "        return float(len(s1.intersection(s2)) / len(s1.union(s2)))\n",
    "    return 0"
   ]
  },
  {
   "cell_type": "code",
   "execution_count": 14,
   "id": "a7ddd86f",
   "metadata": {},
   "outputs": [],
   "source": [
    "def get_feat_list(df, place_id, feature):\n",
    "    return df[df.placeID == place_id][feature].tolist()"
   ]
  },
  {
   "cell_type": "code",
   "execution_count": 15,
   "id": "b7e381cb",
   "metadata": {},
   "outputs": [],
   "source": [
    "def compare_random(place_id, df, column):\n",
    "    latitude, longitude = place[place.placeID == id2place[place_id]][['latitude', 'longitude']].values.tolist()[0]\n",
    "    nearest_list = filtermap((longitude, latitude))\n",
    "    m2v_topk = get_nearest_cossim(nearest_list, min(len(nearest_list), 10))\n",
    "\n",
    "    nearest_ids = [place2id[n] for n in nearest_list]\n",
    "    random_topk = np.array(random.sample(nearest_ids, k = min(len(nearest_list), 10)))\n",
    "    \n",
    "    target_feat_list = get_feat_list(df, place_id2idx[id2place[place_id]], column)\n",
    "    m2v_score, random_score = 0, 0\n",
    "    for pid in m2v_topk:\n",
    "        rec_feat_list = get_feat_list(df, place_id2idx[id2place[pid]], column)\n",
    "        m2v_score += jaccard_similarity(target_feat_list, rec_feat_list)\n",
    "    \n",
    "    for pid in random_topk:\n",
    "        rec_feat_list = get_feat_list(df, place_id2idx[id2place[pid]], column)\n",
    "        random_score += jaccard_similarity(target_feat_list, rec_feat_list)\n",
    "    \n",
    "    return m2v_score, random_score\n",
    "        "
   ]
  },
  {
   "cell_type": "code",
   "execution_count": 16,
   "id": "07d905ee",
   "metadata": {},
   "outputs": [
    {
     "data": {
      "text/plain": [
       "(1.0, 0.1111111111111111)"
      ]
     },
     "execution_count": 16,
     "metadata": {},
     "output_type": "execute_result"
    }
   ],
   "source": [
    "compare_random(3, f_df, 'feature')"
   ]
  },
  {
   "cell_type": "code",
   "execution_count": 17,
   "id": "58a63e76",
   "metadata": {},
   "outputs": [
    {
     "data": {
      "text/plain": [
       "(2.964285714285714, 4.619047619047619)"
      ]
     },
     "execution_count": 17,
     "metadata": {},
     "output_type": "execute_result"
    }
   ],
   "source": [
    "compare_random(1, l_df, 'like')"
   ]
  },
  {
   "cell_type": "code",
   "execution_count": 18,
   "id": "4c022688",
   "metadata": {},
   "outputs": [],
   "source": [
    "def mean_score():\n",
    "    mean_m2v, mean_random = 0, 0\n",
    "\n",
    "    for i in tqdm(id2place.keys()):\n",
    "        m2v_score, random_score = compare_random(i, f_df, 'feature')\n",
    "        mean_m2v += m2v_score\n",
    "        mean_random += random_score\n",
    "\n",
    "    return mean_m2v, mean_random"
   ]
  },
  {
   "cell_type": "code",
   "execution_count": 19,
   "id": "c259397f",
   "metadata": {},
   "outputs": [
    {
     "name": "stderr",
     "output_type": "stream",
     "text": [
      "100%|██████████| 12677/12677 [12:56<00:00, 16.33it/s]\n"
     ]
    },
    {
     "data": {
      "text/plain": [
       "(4016.560664991703, 3933.714106017701)"
      ]
     },
     "execution_count": 19,
     "metadata": {},
     "output_type": "execute_result"
    }
   ],
   "source": [
    "mean_score()"
   ]
  },
  {
   "cell_type": "code",
   "execution_count": 88,
   "id": "04453708",
   "metadata": {},
   "outputs": [
    {
     "name": "stderr",
     "output_type": "stream",
     "text": [
      "100%|██████████| 12677/12677 [13:01<00:00, 16.21it/s]\n"
     ]
    },
    {
     "data": {
      "text/plain": [
       "(3919.086140192669, 4032.298324687215)"
      ]
     },
     "execution_count": 88,
     "metadata": {},
     "output_type": "execute_result"
    }
   ],
   "source": [
    "mean_score()"
   ]
  },
  {
   "cell_type": "code",
   "execution_count": null,
   "id": "0d174e69",
   "metadata": {},
   "outputs": [],
   "source": []
  }
 ],
 "metadata": {
  "interpreter": {
   "hash": "d4d1e4263499bec80672ea0156c357c1ee493ec2b1c70f0acce89fc37c4a6abe"
  },
  "kernelspec": {
   "display_name": "Python ('lightgcn')",
   "language": "python",
   "name": "python3"
  },
  "language_info": {
   "codemirror_mode": {
    "name": "ipython",
    "version": 3
   },
   "file_extension": ".py",
   "mimetype": "text/x-python",
   "name": "python",
   "nbconvert_exporter": "python",
   "pygments_lexer": "ipython3",
   "version": "3.8.5"
  }
 },
 "nbformat": 4,
 "nbformat_minor": 5
}
