{
 "cells": [
  {
   "cell_type": "code",
   "execution_count": 1,
   "metadata": {},
   "outputs": [],
   "source": [
    "import pandas as pd\n",
    "import pickle\n",
    "import math\n",
    "import numpy as np\n",
    "from tqdm import tqdm"
   ]
  },
  {
   "cell_type": "code",
   "execution_count": 18,
   "metadata": {},
   "outputs": [],
   "source": [
    "def ndcg(one_gt, one_rec):\n",
    "    dcg = 0.0\n",
    "    idcg = sum((1.0/np.log(i+1) for i in range(1, len(one_gt)+1)))\n",
    "\n",
    "    for i, r in enumerate(one_rec):\n",
    "        if r in one_gt:\n",
    "            dcg += 1.0/np.log(i+2)\n",
    "\n",
    "    return dcg/idcg"
   ]
  },
  {
   "cell_type": "markdown",
   "metadata": {},
   "source": [
    "ndcg@10\n",
    "1) 20개 이상의 interaction 사용자 -> (k개 리뷰 - 10)=학습, 10개=예측\n",
    "    -> 10개\n",
    "2) 모든 사용자에 대해서 history를 0.7, 0.3 비율 -> 50, 100개 예측 -> ndcg측정"
   ]
  },
  {
   "cell_type": "code",
   "execution_count": 3,
   "metadata": {},
   "outputs": [
    {
     "data": {
      "text/plain": [
       "0.8752903992561911"
      ]
     },
     "execution_count": 3,
     "metadata": {},
     "output_type": "execute_result"
    }
   ],
   "source": [
    "ndcg([1, 2, 3, 4, 5], [1, 2, 100, 9, 6, 8, 5, 4, 3])"
   ]
  },
  {
   "cell_type": "markdown",
   "metadata": {},
   "source": [
    "1. nDCG@10이면 유저가 10개 이상의 리뷰 데이터를 가지고 있는 유저에게만 테스트 하는 것이 맞는가?  \n",
    "ex) [1, 2, 3, 4, 5, 6, 7, 8, 9, 10] <-> [3, 2, 6, 9, 22, 31, 1, 2, 3, 4]\n",
    "\n",
    "2. 10개 미만의 유저라도 상관없이 테스트 할 수 있는 것인가?\n",
    "ex) [1, 2, 3, 4] <-> [1, 2, 3, 4, 5, 6, 7, 8, 9, 10]"
   ]
  },
  {
   "cell_type": "markdown",
   "metadata": {},
   "source": [
    "### Load Review Data"
   ]
  },
  {
   "cell_type": "code",
   "execution_count": 4,
   "metadata": {},
   "outputs": [],
   "source": [
    "path = '/opt/ml/final-project-level3-recsys-02/data/'"
   ]
  },
  {
   "cell_type": "code",
   "execution_count": 5,
   "metadata": {},
   "outputs": [],
   "source": [
    "with open(path+\"/food.pickle\", \"rb\")  as f:\n",
    "    place = pickle.load(f)"
   ]
  },
  {
   "cell_type": "code",
   "execution_count": 6,
   "metadata": {},
   "outputs": [],
   "source": [
    "place['placeID'] = place.apply(lambda x : x['placeName'] + x['placeAddress'], axis = 1)\n",
    "place['placeID'] = place['placeID'].apply(lambda x : x.replace(\" \", \"\"))\n",
    "place['map'] = place[['longitude','latitude']].apply(lambda x: tuple(x.values),axis=1)\n",
    "place = place[~place.placeType.str.contains('성급')].reset_index().copy()"
   ]
  },
  {
   "cell_type": "code",
   "execution_count": 7,
   "metadata": {},
   "outputs": [
    {
     "data": {
      "text/html": [
       "<div>\n",
       "<style scoped>\n",
       "    .dataframe tbody tr th:only-of-type {\n",
       "        vertical-align: middle;\n",
       "    }\n",
       "\n",
       "    .dataframe tbody tr th {\n",
       "        vertical-align: top;\n",
       "    }\n",
       "\n",
       "    .dataframe thead th {\n",
       "        text-align: right;\n",
       "    }\n",
       "</style>\n",
       "<table border=\"1\" class=\"dataframe\">\n",
       "  <thead>\n",
       "    <tr style=\"text-align: right;\">\n",
       "      <th></th>\n",
       "      <th>userHash</th>\n",
       "      <th>placeID</th>\n",
       "      <th>timestamp</th>\n",
       "    </tr>\n",
       "  </thead>\n",
       "  <tbody>\n",
       "    <tr>\n",
       "      <th>0</th>\n",
       "      <td>5b7c26a7300f598cc0a19949</td>\n",
       "      <td>청계다방서울서초구원터4길61층청계다방</td>\n",
       "      <td>1.651277e+09</td>\n",
       "    </tr>\n",
       "    <tr>\n",
       "      <th>1</th>\n",
       "      <td>5e7219bb8f87a842bc608e26</td>\n",
       "      <td>밀밭정원서울마포구마포대로16길13</td>\n",
       "      <td>1.652314e+09</td>\n",
       "    </tr>\n",
       "    <tr>\n",
       "      <th>2</th>\n",
       "      <td>5e46a4e28f87a842bc369874</td>\n",
       "      <td>청계다방서울서초구원터4길61층청계다방</td>\n",
       "      <td>1.650067e+09</td>\n",
       "    </tr>\n",
       "    <tr>\n",
       "      <th>3</th>\n",
       "      <td>5c27ac4f31fda71be490e8b7</td>\n",
       "      <td>밀밭정원서울마포구마포대로16길13</td>\n",
       "      <td>1.651709e+09</td>\n",
       "    </tr>\n",
       "    <tr>\n",
       "      <th>4</th>\n",
       "      <td>5e5dd56f8f87a842bcae3647</td>\n",
       "      <td>청계다방서울서초구원터4길61층청계다방</td>\n",
       "      <td>1.649549e+09</td>\n",
       "    </tr>\n",
       "  </tbody>\n",
       "</table>\n",
       "</div>"
      ],
      "text/plain": [
       "                   userHash               placeID     timestamp\n",
       "0  5b7c26a7300f598cc0a19949  청계다방서울서초구원터4길61층청계다방  1.651277e+09\n",
       "1  5e7219bb8f87a842bc608e26    밀밭정원서울마포구마포대로16길13  1.652314e+09\n",
       "2  5e46a4e28f87a842bc369874  청계다방서울서초구원터4길61층청계다방  1.650067e+09\n",
       "3  5c27ac4f31fda71be490e8b7    밀밭정원서울마포구마포대로16길13  1.651709e+09\n",
       "4  5e5dd56f8f87a842bcae3647  청계다방서울서초구원터4길61층청계다방  1.649549e+09"
      ]
     },
     "execution_count": 7,
     "metadata": {},
     "output_type": "execute_result"
    }
   ],
   "source": [
    "df = pd.read_csv(path + 'review.csv')\n",
    "df.head()"
   ]
  },
  {
   "cell_type": "code",
   "execution_count": 8,
   "metadata": {},
   "outputs": [],
   "source": [
    "df = df[df.placeID.isin(place.placeID.unique())].reset_index(drop=True)"
   ]
  },
  {
   "cell_type": "code",
   "execution_count": 9,
   "metadata": {},
   "outputs": [
    {
     "data": {
      "text/html": [
       "<div>\n",
       "<style scoped>\n",
       "    .dataframe tbody tr th:only-of-type {\n",
       "        vertical-align: middle;\n",
       "    }\n",
       "\n",
       "    .dataframe tbody tr th {\n",
       "        vertical-align: top;\n",
       "    }\n",
       "\n",
       "    .dataframe thead th {\n",
       "        text-align: right;\n",
       "    }\n",
       "</style>\n",
       "<table border=\"1\" class=\"dataframe\">\n",
       "  <thead>\n",
       "    <tr style=\"text-align: right;\">\n",
       "      <th></th>\n",
       "      <th>userHash</th>\n",
       "      <th>placeID</th>\n",
       "      <th>timestamp</th>\n",
       "    </tr>\n",
       "  </thead>\n",
       "  <tbody>\n",
       "    <tr>\n",
       "      <th>0</th>\n",
       "      <td>61b106a74b246250298287f6</td>\n",
       "      <td>밀밭정원서울마포구마포대로16길13</td>\n",
       "      <td>1.651104e+09</td>\n",
       "    </tr>\n",
       "    <tr>\n",
       "      <th>1</th>\n",
       "      <td>62221e887bac195eed62a637</td>\n",
       "      <td>밀밭정원서울마포구마포대로16길13</td>\n",
       "      <td>1.651104e+09</td>\n",
       "    </tr>\n",
       "    <tr>\n",
       "      <th>2</th>\n",
       "      <td>5eeb1daf8f87a842bc1e61cb</td>\n",
       "      <td>밀밭정원서울마포구마포대로16길13</td>\n",
       "      <td>1.651104e+09</td>\n",
       "    </tr>\n",
       "    <tr>\n",
       "      <th>3</th>\n",
       "      <td>5b9b44c488c814e31d90d6f6</td>\n",
       "      <td>밀밭정원서울마포구마포대로16길13</td>\n",
       "      <td>1.650499e+09</td>\n",
       "    </tr>\n",
       "    <tr>\n",
       "      <th>4</th>\n",
       "      <td>5dc699538f87a842bcc650e4</td>\n",
       "      <td>밀밭정원서울마포구마포대로16길13</td>\n",
       "      <td>1.642896e+09</td>\n",
       "    </tr>\n",
       "  </tbody>\n",
       "</table>\n",
       "</div>"
      ],
      "text/plain": [
       "                   userHash             placeID     timestamp\n",
       "0  61b106a74b246250298287f6  밀밭정원서울마포구마포대로16길13  1.651104e+09\n",
       "1  62221e887bac195eed62a637  밀밭정원서울마포구마포대로16길13  1.651104e+09\n",
       "2  5eeb1daf8f87a842bc1e61cb  밀밭정원서울마포구마포대로16길13  1.651104e+09\n",
       "3  5b9b44c488c814e31d90d6f6  밀밭정원서울마포구마포대로16길13  1.650499e+09\n",
       "4  5dc699538f87a842bcc650e4  밀밭정원서울마포구마포대로16길13  1.642896e+09"
      ]
     },
     "execution_count": 9,
     "metadata": {},
     "output_type": "execute_result"
    }
   ],
   "source": [
    "filter_df = df[['userHash', 'placeID', 'timestamp']]\n",
    "filter_df.drop_duplicates(inplace=True)\n",
    "filter_df = filter_df.groupby('userHash').filter(lambda x : len(x)>2)\n",
    "filter_df.reset_index(drop=True, inplace=True)\n",
    "filter_df.head()"
   ]
  },
  {
   "cell_type": "code",
   "execution_count": 10,
   "metadata": {},
   "outputs": [
    {
     "data": {
      "text/plain": [
       "array(['61b106a74b246250298287f6', '62221e887bac195eed62a637',\n",
       "       '5eeb1daf8f87a842bc1e61cb', ..., '5ce8d2a1fe231b25730cc29b',\n",
       "       '60e1444b3d695cbcd6ab5bf1', '5dc4b18e8f87a842bc1ead18'],\n",
       "      dtype=object)"
      ]
     },
     "execution_count": 10,
     "metadata": {},
     "output_type": "execute_result"
    }
   ],
   "source": [
    "userList = filter_df['userHash'].unique()\n",
    "userList"
   ]
  },
  {
   "cell_type": "code",
   "execution_count": 11,
   "metadata": {},
   "outputs": [],
   "source": [
    "def get_user_info(user):\n",
    "    history = train[train.userHash == user]['placeID'].values.tolist()\n",
    "    gt = test[test.userHash==user]['placeID'].values.tolist()\n",
    "    return history, gt"
   ]
  },
  {
   "cell_type": "code",
   "execution_count": 12,
   "metadata": {},
   "outputs": [
    {
     "name": "stderr",
     "output_type": "stream",
     "text": [
      "<frozen importlib._bootstrap>:219: RuntimeWarning: scipy._lib.messagestream.MessageStream size changed, may indicate binary incompatibility. Expected 56 from C header, got 64 from PyObject\n"
     ]
    }
   ],
   "source": [
    "import sys\n",
    "sys.path.append('../')\n",
    "\n",
    "from models.model import CossimRecommender\n",
    "from sklearn.metrics.pairwise import cosine_similarity"
   ]
  },
  {
   "cell_type": "code",
   "execution_count": 13,
   "metadata": {},
   "outputs": [],
   "source": [
    "model = CossimRecommender('/opt/ml/final-project-level3-recsys-02/data/')"
   ]
  },
  {
   "cell_type": "code",
   "execution_count": 14,
   "metadata": {},
   "outputs": [],
   "source": [
    "def get_user_embedding(review, user):\n",
    "    visited_places = review[review['userHash'] == user].placeID\n",
    "\n",
    "    user_emb = np.zeros(128)\n",
    "    id_list = []\n",
    "    for idx, vp in enumerate(visited_places[-11:]):\n",
    "        id_list.append(model.place2id[vp])\n",
    "        user_emb += np.array(model.place_emb[id_list[-1]])\n",
    "    user_emb = user_emb/len(id_list)\n",
    "    return user_emb, id_list\n",
    "    \n",
    "def recommend(user_emb, id_list):\n",
    "    result = []\n",
    "    user_embedding = user_emb.reshape(1,-1)\n",
    "    cossim = cosine_similarity(user_embedding, model.place_emb)\n",
    "    cossim = cossim.squeeze()\n",
    "    cossim[id_list] = -1\n",
    "\n",
    "    for idx in np.argsort(cossim)[::-1][:10]:\n",
    "        result.append(model.id2place[idx])\n",
    "    return result"
   ]
  },
  {
   "cell_type": "markdown",
   "metadata": {},
   "source": [
    "### 전지역 추천 성능"
   ]
  },
  {
   "cell_type": "code",
   "execution_count": 47,
   "metadata": {},
   "outputs": [],
   "source": [
    "from sklearn.model_selection import train_test_split"
   ]
  },
  {
   "cell_type": "code",
   "execution_count": 48,
   "metadata": {},
   "outputs": [],
   "source": [
    "train, test = train_test_split(filter_df, test_size=0.3, shuffle=True, stratify=filter_df['userHash'], random_state=34)"
   ]
  },
  {
   "cell_type": "code",
   "execution_count": 49,
   "metadata": {},
   "outputs": [
    {
     "name": "stderr",
     "output_type": "stream",
     "text": [
      "100%|██████████| 1000/1000 [02:07<00:00,  7.83it/s]\n"
     ]
    }
   ],
   "source": [
    "score = 0\n",
    "for idx, user in enumerate(tqdm(userList[:1000])):\n",
    "    user_emb, id_list = get_user_embedding(train, user)\n",
    "    result = recommend(user_emb, id_list)\n",
    "    answer = test[test.userHash==user]['placeID'].values\n",
    "    score += ndcg(answer, result)"
   ]
  },
  {
   "cell_type": "code",
   "execution_count": 50,
   "metadata": {},
   "outputs": [
    {
     "data": {
      "text/plain": [
       "0.0001089364926177559"
      ]
     },
     "execution_count": 50,
     "metadata": {},
     "output_type": "execute_result"
    }
   ],
   "source": [
    "score / 1000"
   ]
  },
  {
   "cell_type": "markdown",
   "metadata": {},
   "source": [
    "### 위치 기반 추천 성능"
   ]
  },
  {
   "cell_type": "code",
   "execution_count": 15,
   "metadata": {},
   "outputs": [],
   "source": [
    "test = filter_df.groupby('userHash', as_index=False).nth(-1)\n",
    "filter_df['isTest'] = False\n",
    "filter_df.loc[test.index, 'isTest'] = True\n",
    "train = filter_df[filter_df.isTest==False]\n",
    "train = train.drop(['isTest'], axis=1)"
   ]
  },
  {
   "cell_type": "code",
   "execution_count": 16,
   "metadata": {},
   "outputs": [],
   "source": [
    "test = pd.merge(test, place[['placeID', 'map']], how='left', on='placeID')"
   ]
  },
  {
   "cell_type": "code",
   "execution_count": 20,
   "metadata": {},
   "outputs": [
    {
     "name": "stderr",
     "output_type": "stream",
     "text": [
      "1000it [03:09,  5.29it/s]\n"
     ]
    }
   ],
   "source": [
    "score = 0\n",
    "for idx, values in tqdm(test[:1000].iterrows()):\n",
    "    coor = values['map']\n",
    "    user_emb, history_list = get_user_embedding(train, values['userHash'])\n",
    "    result = model.user_recommend(coor, user_emb, history_list, 100)\n",
    "    score += ndcg(values['placeID'], result)"
   ]
  },
  {
   "cell_type": "code",
   "execution_count": 22,
   "metadata": {},
   "outputs": [
    {
     "data": {
      "text/plain": [
       "0.000628601557239674"
      ]
     },
     "execution_count": 22,
     "metadata": {},
     "output_type": "execute_result"
    }
   ],
   "source": [
    "score / 1000"
   ]
  },
  {
   "cell_type": "code",
   "execution_count": null,
   "metadata": {},
   "outputs": [],
   "source": []
  }
 ],
 "metadata": {
  "interpreter": {
   "hash": "d4d1e4263499bec80672ea0156c357c1ee493ec2b1c70f0acce89fc37c4a6abe"
  },
  "kernelspec": {
   "display_name": "Python ('lightgcn')",
   "language": "python",
   "name": "python3"
  },
  "language_info": {
   "codemirror_mode": {
    "name": "ipython",
    "version": 3
   },
   "file_extension": ".py",
   "mimetype": "text/x-python",
   "name": "python",
   "nbconvert_exporter": "python",
   "pygments_lexer": "ipython3",
   "version": "3.8.5"
  },
  "orig_nbformat": 4
 },
 "nbformat": 4,
 "nbformat_minor": 2
}
