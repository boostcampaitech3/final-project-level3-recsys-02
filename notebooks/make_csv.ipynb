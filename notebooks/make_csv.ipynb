{
 "cells": [
  {
   "cell_type": "code",
   "execution_count": 1,
   "metadata": {},
   "outputs": [
    {
     "name": "stderr",
     "output_type": "stream",
     "text": [
      "Using backend: pytorch\n"
     ]
    }
   ],
   "source": [
    "import pandas as pd\n",
    "import numpy as np\n",
    "import dgl\n",
    "import torch\n",
    "from tqdm import tqdm, trange\n",
    "from torch.utils.data import Dataset, DataLoader\n",
    "import torch.nn as nn\n",
    "import torch.nn.functional as F\n",
    "from torch.nn import init\n",
    "import torch.optim as optim\n",
    "from konlpy.tag import *\n",
    "from collections import Counter\n",
    "from sklearn.metrics.pairwise import cosine_similarity\n",
    "import random\n",
    "import pickle\n",
    "import os"
   ]
  },
  {
   "cell_type": "code",
   "execution_count": 2,
   "metadata": {},
   "outputs": [],
   "source": [
    "data_dir = '/opt/ml/final-project-level3-recsys-02/data/'"
   ]
  },
  {
   "cell_type": "code",
   "execution_count": 4,
   "metadata": {},
   "outputs": [],
   "source": [
    "with open(data_dir + 'food.pickle', 'rb') as f :\n",
    "    raw_df = pickle.load(f)\n",
    "USE_COLS = ['placeName', 'placeType', 'placeAddress', 'themeKeywords','like', 'menulabel', 'ageLabel', 'ratingLabel',  'visitLabel', 'blogLabel']\n",
    "raw_df = raw_df[USE_COLS]\n",
    "raw_df = raw_df[~raw_df.placeType.str.contains('성급')].reset_index().copy()\n"
   ]
  },
  {
   "cell_type": "code",
   "execution_count": 9,
   "metadata": {},
   "outputs": [],
   "source": [
    "raw_df['placeID'] = raw_df.apply(lambda x : x['placeName'] + x['placeAddress'], axis = 1)\n",
    "raw_df['placeID'] = raw_df['placeID'].apply(lambda x : x.replace(\" \", \"\"))"
   ]
  },
  {
   "cell_type": "markdown",
   "metadata": {},
   "source": [
    "### Place type"
   ]
  },
  {
   "cell_type": "code",
   "execution_count": 10,
   "metadata": {},
   "outputs": [
    {
     "data": {
      "text/html": [
       "<div>\n",
       "<style scoped>\n",
       "    .dataframe tbody tr th:only-of-type {\n",
       "        vertical-align: middle;\n",
       "    }\n",
       "\n",
       "    .dataframe tbody tr th {\n",
       "        vertical-align: top;\n",
       "    }\n",
       "\n",
       "    .dataframe thead th {\n",
       "        text-align: right;\n",
       "    }\n",
       "</style>\n",
       "<table border=\"1\" class=\"dataframe\">\n",
       "  <thead>\n",
       "    <tr style=\"text-align: right;\">\n",
       "      <th></th>\n",
       "      <th>placeID</th>\n",
       "      <th>feature</th>\n",
       "    </tr>\n",
       "  </thead>\n",
       "  <tbody>\n",
       "    <tr>\n",
       "      <th>0</th>\n",
       "      <td>밀밭정원서울마포구마포대로16길13</td>\n",
       "      <td>칼국수,만두</td>\n",
       "    </tr>\n",
       "    <tr>\n",
       "      <th>1</th>\n",
       "      <td>식스센스다이닝BAR서울동대문구왕산로2길9(2층방역룸예약)</td>\n",
       "      <td>바(BAR)</td>\n",
       "    </tr>\n",
       "    <tr>\n",
       "      <th>2</th>\n",
       "      <td>동북양꼬치서울영등포구디지털로37길26-1</td>\n",
       "      <td>양꼬치</td>\n",
       "    </tr>\n",
       "    <tr>\n",
       "      <th>3</th>\n",
       "      <td>농부쌈밥서울동작구사당로30길19</td>\n",
       "      <td>쌈밥</td>\n",
       "    </tr>\n",
       "    <tr>\n",
       "      <th>4</th>\n",
       "      <td>홍당무김밥서울영등포구문래로180영등포센트럴푸르지오시티</td>\n",
       "      <td>김밥</td>\n",
       "    </tr>\n",
       "  </tbody>\n",
       "</table>\n",
       "</div>"
      ],
      "text/plain": [
       "                           placeID feature\n",
       "0               밀밭정원서울마포구마포대로16길13  칼국수,만두\n",
       "1  식스센스다이닝BAR서울동대문구왕산로2길9(2층방역룸예약)  바(BAR)\n",
       "2           동북양꼬치서울영등포구디지털로37길26-1     양꼬치\n",
       "3                농부쌈밥서울동작구사당로30길19      쌈밥\n",
       "4    홍당무김밥서울영등포구문래로180영등포센트럴푸르지오시티      김밥"
      ]
     },
     "execution_count": 10,
     "metadata": {},
     "output_type": "execute_result"
    }
   ],
   "source": [
    "p_df = raw_df[['placeID', 'placeType']]\n",
    "p_df.columns = ['placeID', 'feature']\n",
    "p_df.head()"
   ]
  },
  {
   "cell_type": "code",
   "execution_count": 11,
   "metadata": {},
   "outputs": [],
   "source": [
    "for idx, value in enumerate(p_df.iterrows()):\n",
    "    if not p_df['feature'][idx]:\n",
    "        p_df['placeID']"
   ]
  },
  {
   "cell_type": "code",
   "execution_count": 12,
   "metadata": {},
   "outputs": [
    {
     "name": "stderr",
     "output_type": "stream",
     "text": [
      "/tmp/ipykernel_87559/3755599053.py:1: SettingWithCopyWarning: \n",
      "A value is trying to be set on a copy of a slice from a DataFrame.\n",
      "Try using .loc[row_indexer,col_indexer] = value instead\n",
      "\n",
      "See the caveats in the documentation: https://pandas.pydata.org/pandas-docs/stable/user_guide/indexing.html#returning-a-view-versus-a-copy\n",
      "  p_df['feature'] = p_df['feature'].apply(lambda x : x.split(','))\n"
     ]
    }
   ],
   "source": [
    "p_df['feature'] = p_df['feature'].apply(lambda x : x.split(','))"
   ]
  },
  {
   "cell_type": "code",
   "execution_count": 13,
   "metadata": {},
   "outputs": [],
   "source": [
    "p_df = pd.DataFrame([\n",
    "    [place_id, feature] for place_id, features in p_df.itertuples(index=False)\n",
    "    for feature in features\n",
    "    ], columns=p_df.columns)"
   ]
  },
  {
   "cell_type": "code",
   "execution_count": 14,
   "metadata": {},
   "outputs": [
    {
     "data": {
      "text/html": [
       "<div>\n",
       "<style scoped>\n",
       "    .dataframe tbody tr th:only-of-type {\n",
       "        vertical-align: middle;\n",
       "    }\n",
       "\n",
       "    .dataframe tbody tr th {\n",
       "        vertical-align: top;\n",
       "    }\n",
       "\n",
       "    .dataframe thead th {\n",
       "        text-align: right;\n",
       "    }\n",
       "</style>\n",
       "<table border=\"1\" class=\"dataframe\">\n",
       "  <thead>\n",
       "    <tr style=\"text-align: right;\">\n",
       "      <th></th>\n",
       "      <th>placeID</th>\n",
       "      <th>feature</th>\n",
       "    </tr>\n",
       "  </thead>\n",
       "  <tbody>\n",
       "    <tr>\n",
       "      <th>0</th>\n",
       "      <td>밀밭정원서울마포구마포대로16길13</td>\n",
       "      <td>칼국수</td>\n",
       "    </tr>\n",
       "    <tr>\n",
       "      <th>1</th>\n",
       "      <td>밀밭정원서울마포구마포대로16길13</td>\n",
       "      <td>만두</td>\n",
       "    </tr>\n",
       "    <tr>\n",
       "      <th>2</th>\n",
       "      <td>식스센스다이닝BAR서울동대문구왕산로2길9(2층방역룸예약)</td>\n",
       "      <td>바(BAR)</td>\n",
       "    </tr>\n",
       "    <tr>\n",
       "      <th>3</th>\n",
       "      <td>동북양꼬치서울영등포구디지털로37길26-1</td>\n",
       "      <td>양꼬치</td>\n",
       "    </tr>\n",
       "    <tr>\n",
       "      <th>4</th>\n",
       "      <td>농부쌈밥서울동작구사당로30길19</td>\n",
       "      <td>쌈밥</td>\n",
       "    </tr>\n",
       "  </tbody>\n",
       "</table>\n",
       "</div>"
      ],
      "text/plain": [
       "                           placeID feature\n",
       "0               밀밭정원서울마포구마포대로16길13     칼국수\n",
       "1               밀밭정원서울마포구마포대로16길13      만두\n",
       "2  식스센스다이닝BAR서울동대문구왕산로2길9(2층방역룸예약)  바(BAR)\n",
       "3           동북양꼬치서울영등포구디지털로37길26-1     양꼬치\n",
       "4                농부쌈밥서울동작구사당로30길19      쌈밥"
      ]
     },
     "execution_count": 14,
     "metadata": {},
     "output_type": "execute_result"
    }
   ],
   "source": [
    "p_df.head()"
   ]
  },
  {
   "cell_type": "markdown",
   "metadata": {},
   "source": [
    "#### Place Theme Keywords"
   ]
  },
  {
   "cell_type": "code",
   "execution_count": 15,
   "metadata": {},
   "outputs": [],
   "source": [
    "okt = Okt()"
   ]
  },
  {
   "cell_type": "code",
   "execution_count": 16,
   "metadata": {},
   "outputs": [],
   "source": [
    "def prep_nouns(word:str):\n",
    "    noun = okt.nouns(word)\n",
    "    if noun:\n",
    "        return noun[0]\n",
    "    else:\n",
    "        return \"\""
   ]
  },
  {
   "cell_type": "code",
   "execution_count": 17,
   "metadata": {},
   "outputs": [],
   "source": [
    "k_df = raw_df[['placeID', 'themeKeywords']]"
   ]
  },
  {
   "cell_type": "code",
   "execution_count": 18,
   "metadata": {},
   "outputs": [
    {
     "data": {
      "text/plain": [
       "1                                [술집, 세계맥주, 맥주집, 호프집, 생맥주]\n",
       "3        [인심좋은, 친절한, 친절하신, 친절하고, 쌈밥, 제육볶음, 오리로스, 부대찌개, ...\n",
       "6                                              [닭갈비, 닭갈비집]\n",
       "7                  [심플한, 돼지곱창, 시장, 소곱창, 곱창, 막창, 신선한, 숨어있는]\n",
       "8        [친절함, 친절하고, 화려한, 친절한, 시장, 소곱창, 양대창, 막창, 곱창, 나들...\n",
       "                               ...                        \n",
       "12646     [고급진, 깨끗한, 고급스러운, 안락한, 초밥, 젓갈, 튀김, 횟집, 참치회, 신선한]\n",
       "12651    [아늑한, 분위기좋은, 토속적인분위기, 김치찌개, 굴보쌈, 한정식, 곱창, 비빔밥,...\n",
       "12662                                [만두, 아이스크림, 설렁탕, 불고기]\n",
       "12664                         [닭갈비, 닭갈비집, 주먹밥, 막국수, 새로오픈한]\n",
       "12665    [고급진, 이국적, 고급스러운, 카레, 팟타이, 태국음식, 쌀국수, 누들, 나들이,...\n",
       "Name: themeKeywords, Length: 3499, dtype: object"
      ]
     },
     "execution_count": 18,
     "metadata": {},
     "output_type": "execute_result"
    }
   ],
   "source": [
    "theme_place = k_df[k_df.themeKeywords.str.len()!=0]['themeKeywords']\n",
    "theme_place"
   ]
  },
  {
   "cell_type": "code",
   "execution_count": 19,
   "metadata": {},
   "outputs": [
    {
     "name": "stderr",
     "output_type": "stream",
     "text": [
      "/tmp/ipykernel_87559/2134242679.py:1: SettingWithCopyWarning: \n",
      "A value is trying to be set on a copy of a slice from a DataFrame.\n",
      "Try using .loc[row_indexer,col_indexer] = value instead\n",
      "\n",
      "See the caveats in the documentation: https://pandas.pydata.org/pandas-docs/stable/user_guide/indexing.html#returning-a-view-versus-a-copy\n",
      "  k_df['prepThemeKeywords'] = k_df['themeKeywords'].apply(lambda x : list(map(lambda x : prep_nouns(x), x)))\n"
     ]
    }
   ],
   "source": [
    "k_df['prepThemeKeywords'] = k_df['themeKeywords'].apply(lambda x : list(map(lambda x : prep_nouns(x), x)))"
   ]
  },
  {
   "cell_type": "code",
   "execution_count": 20,
   "metadata": {},
   "outputs": [],
   "source": [
    "keyword_list = list(set(k_df[k_df.prepThemeKeywords.str.len()!=0]['prepThemeKeywords'].sum()))"
   ]
  },
  {
   "cell_type": "code",
   "execution_count": 21,
   "metadata": {},
   "outputs": [],
   "source": [
    "k_df = pd.DataFrame([\n",
    "    [id, keyword] for id, keywords in k_df[['placeID', 'prepThemeKeywords']].itertuples(index=False)\n",
    "    for keyword in keywords\n",
    "], columns=['placeID', 'prepThemeKeywords'])"
   ]
  },
  {
   "cell_type": "code",
   "execution_count": 22,
   "metadata": {},
   "outputs": [
    {
     "data": {
      "text/html": [
       "<div>\n",
       "<style scoped>\n",
       "    .dataframe tbody tr th:only-of-type {\n",
       "        vertical-align: middle;\n",
       "    }\n",
       "\n",
       "    .dataframe tbody tr th {\n",
       "        vertical-align: top;\n",
       "    }\n",
       "\n",
       "    .dataframe thead th {\n",
       "        text-align: right;\n",
       "    }\n",
       "</style>\n",
       "<table border=\"1\" class=\"dataframe\">\n",
       "  <thead>\n",
       "    <tr style=\"text-align: right;\">\n",
       "      <th></th>\n",
       "      <th>placeID</th>\n",
       "      <th>prepThemeKeywords</th>\n",
       "    </tr>\n",
       "  </thead>\n",
       "  <tbody>\n",
       "    <tr>\n",
       "      <th>0</th>\n",
       "      <td>식스센스다이닝BAR서울동대문구왕산로2길9(2층방역룸예약)</td>\n",
       "      <td>술집</td>\n",
       "    </tr>\n",
       "    <tr>\n",
       "      <th>1</th>\n",
       "      <td>식스센스다이닝BAR서울동대문구왕산로2길9(2층방역룸예약)</td>\n",
       "      <td>세계</td>\n",
       "    </tr>\n",
       "    <tr>\n",
       "      <th>2</th>\n",
       "      <td>식스센스다이닝BAR서울동대문구왕산로2길9(2층방역룸예약)</td>\n",
       "      <td>맥주</td>\n",
       "    </tr>\n",
       "    <tr>\n",
       "      <th>3</th>\n",
       "      <td>식스센스다이닝BAR서울동대문구왕산로2길9(2층방역룸예약)</td>\n",
       "      <td>호프</td>\n",
       "    </tr>\n",
       "    <tr>\n",
       "      <th>4</th>\n",
       "      <td>식스센스다이닝BAR서울동대문구왕산로2길9(2층방역룸예약)</td>\n",
       "      <td>생맥주</td>\n",
       "    </tr>\n",
       "  </tbody>\n",
       "</table>\n",
       "</div>"
      ],
      "text/plain": [
       "                           placeID prepThemeKeywords\n",
       "0  식스센스다이닝BAR서울동대문구왕산로2길9(2층방역룸예약)                술집\n",
       "1  식스센스다이닝BAR서울동대문구왕산로2길9(2층방역룸예약)                세계\n",
       "2  식스센스다이닝BAR서울동대문구왕산로2길9(2층방역룸예약)                맥주\n",
       "3  식스센스다이닝BAR서울동대문구왕산로2길9(2층방역룸예약)                호프\n",
       "4  식스센스다이닝BAR서울동대문구왕산로2길9(2층방역룸예약)               생맥주"
      ]
     },
     "execution_count": 22,
     "metadata": {},
     "output_type": "execute_result"
    }
   ],
   "source": [
    "k_df = k_df[k_df.prepThemeKeywords!=\"\"]\n",
    "k_df.head()"
   ]
  },
  {
   "cell_type": "markdown",
   "metadata": {},
   "source": [
    "#### Like"
   ]
  },
  {
   "cell_type": "code",
   "execution_count": 23,
   "metadata": {},
   "outputs": [
    {
     "data": {
      "text/html": [
       "<div>\n",
       "<style scoped>\n",
       "    .dataframe tbody tr th:only-of-type {\n",
       "        vertical-align: middle;\n",
       "    }\n",
       "\n",
       "    .dataframe tbody tr th {\n",
       "        vertical-align: top;\n",
       "    }\n",
       "\n",
       "    .dataframe thead th {\n",
       "        text-align: right;\n",
       "    }\n",
       "</style>\n",
       "<table border=\"1\" class=\"dataframe\">\n",
       "  <thead>\n",
       "    <tr style=\"text-align: right;\">\n",
       "      <th></th>\n",
       "      <th>음식이 맛있어요</th>\n",
       "      <th>재료가 신선해요</th>\n",
       "      <th>친절해요</th>\n",
       "      <th>특별한 메뉴가 있어요</th>\n",
       "      <th>단체모임 하기 좋아요</th>\n",
       "      <th>매장이 청결해요</th>\n",
       "      <th>혼밥하기 좋아요</th>\n",
       "      <th>양이 많아요</th>\n",
       "      <th>가성비가 좋아요</th>\n",
       "      <th>매장이 넓어요</th>\n",
       "      <th>...</th>\n",
       "      <th>건강한 맛이에요</th>\n",
       "      <th>아늑해요</th>\n",
       "      <th>컨셉이 독특해요</th>\n",
       "      <th>샐러드바가 잘 되어있어요</th>\n",
       "      <th>현지 맛에 가까워요</th>\n",
       "      <th>추천을 잘해줘요</th>\n",
       "      <th>라이브공연이 훌륭해요</th>\n",
       "      <th>파티하기 좋아요</th>\n",
       "      <th>반려동물과 가기 좋아요</th>\n",
       "      <th>잡내가 적어요</th>\n",
       "    </tr>\n",
       "  </thead>\n",
       "  <tbody>\n",
       "    <tr>\n",
       "      <th>0</th>\n",
       "      <td>26.0</td>\n",
       "      <td>11.0</td>\n",
       "      <td>10.0</td>\n",
       "      <td>7.0</td>\n",
       "      <td>4.0</td>\n",
       "      <td>3.0</td>\n",
       "      <td>2.0</td>\n",
       "      <td>2.0</td>\n",
       "      <td>2.0</td>\n",
       "      <td>2.0</td>\n",
       "      <td>...</td>\n",
       "      <td>NaN</td>\n",
       "      <td>NaN</td>\n",
       "      <td>NaN</td>\n",
       "      <td>NaN</td>\n",
       "      <td>NaN</td>\n",
       "      <td>NaN</td>\n",
       "      <td>NaN</td>\n",
       "      <td>NaN</td>\n",
       "      <td>NaN</td>\n",
       "      <td>NaN</td>\n",
       "    </tr>\n",
       "    <tr>\n",
       "      <th>1</th>\n",
       "      <td>59.0</td>\n",
       "      <td>2.0</td>\n",
       "      <td>62.0</td>\n",
       "      <td>22.0</td>\n",
       "      <td>18.0</td>\n",
       "      <td>40.0</td>\n",
       "      <td>NaN</td>\n",
       "      <td>2.0</td>\n",
       "      <td>12.0</td>\n",
       "      <td>1.0</td>\n",
       "      <td>...</td>\n",
       "      <td>NaN</td>\n",
       "      <td>NaN</td>\n",
       "      <td>NaN</td>\n",
       "      <td>NaN</td>\n",
       "      <td>NaN</td>\n",
       "      <td>NaN</td>\n",
       "      <td>NaN</td>\n",
       "      <td>NaN</td>\n",
       "      <td>NaN</td>\n",
       "      <td>NaN</td>\n",
       "    </tr>\n",
       "    <tr>\n",
       "      <th>2</th>\n",
       "      <td>NaN</td>\n",
       "      <td>NaN</td>\n",
       "      <td>NaN</td>\n",
       "      <td>NaN</td>\n",
       "      <td>NaN</td>\n",
       "      <td>NaN</td>\n",
       "      <td>NaN</td>\n",
       "      <td>NaN</td>\n",
       "      <td>NaN</td>\n",
       "      <td>NaN</td>\n",
       "      <td>...</td>\n",
       "      <td>NaN</td>\n",
       "      <td>NaN</td>\n",
       "      <td>NaN</td>\n",
       "      <td>NaN</td>\n",
       "      <td>NaN</td>\n",
       "      <td>NaN</td>\n",
       "      <td>NaN</td>\n",
       "      <td>NaN</td>\n",
       "      <td>NaN</td>\n",
       "      <td>NaN</td>\n",
       "    </tr>\n",
       "    <tr>\n",
       "      <th>3</th>\n",
       "      <td>73.0</td>\n",
       "      <td>45.0</td>\n",
       "      <td>42.0</td>\n",
       "      <td>3.0</td>\n",
       "      <td>NaN</td>\n",
       "      <td>10.0</td>\n",
       "      <td>10.0</td>\n",
       "      <td>25.0</td>\n",
       "      <td>57.0</td>\n",
       "      <td>4.0</td>\n",
       "      <td>...</td>\n",
       "      <td>NaN</td>\n",
       "      <td>NaN</td>\n",
       "      <td>NaN</td>\n",
       "      <td>NaN</td>\n",
       "      <td>NaN</td>\n",
       "      <td>NaN</td>\n",
       "      <td>NaN</td>\n",
       "      <td>NaN</td>\n",
       "      <td>NaN</td>\n",
       "      <td>NaN</td>\n",
       "    </tr>\n",
       "    <tr>\n",
       "      <th>4</th>\n",
       "      <td>18.0</td>\n",
       "      <td>8.0</td>\n",
       "      <td>17.0</td>\n",
       "      <td>2.0</td>\n",
       "      <td>1.0</td>\n",
       "      <td>6.0</td>\n",
       "      <td>25.0</td>\n",
       "      <td>6.0</td>\n",
       "      <td>18.0</td>\n",
       "      <td>2.0</td>\n",
       "      <td>...</td>\n",
       "      <td>NaN</td>\n",
       "      <td>NaN</td>\n",
       "      <td>NaN</td>\n",
       "      <td>NaN</td>\n",
       "      <td>NaN</td>\n",
       "      <td>NaN</td>\n",
       "      <td>NaN</td>\n",
       "      <td>NaN</td>\n",
       "      <td>NaN</td>\n",
       "      <td>NaN</td>\n",
       "    </tr>\n",
       "  </tbody>\n",
       "</table>\n",
       "<p>5 rows × 56 columns</p>\n",
       "</div>"
      ],
      "text/plain": [
       "   음식이 맛있어요  재료가 신선해요  친절해요  특별한 메뉴가 있어요  단체모임 하기 좋아요  매장이 청결해요  혼밥하기 좋아요  \\\n",
       "0      26.0      11.0  10.0          7.0          4.0       3.0       2.0   \n",
       "1      59.0       2.0  62.0         22.0         18.0      40.0       NaN   \n",
       "2       NaN       NaN   NaN          NaN          NaN       NaN       NaN   \n",
       "3      73.0      45.0  42.0          3.0          NaN      10.0      10.0   \n",
       "4      18.0       8.0  17.0          2.0          1.0       6.0      25.0   \n",
       "\n",
       "   양이 많아요  가성비가 좋아요  매장이 넓어요  ...  건강한 맛이에요  아늑해요  컨셉이 독특해요  샐러드바가 잘 되어있어요  \\\n",
       "0     2.0       2.0      2.0  ...       NaN   NaN       NaN            NaN   \n",
       "1     2.0      12.0      1.0  ...       NaN   NaN       NaN            NaN   \n",
       "2     NaN       NaN      NaN  ...       NaN   NaN       NaN            NaN   \n",
       "3    25.0      57.0      4.0  ...       NaN   NaN       NaN            NaN   \n",
       "4     6.0      18.0      2.0  ...       NaN   NaN       NaN            NaN   \n",
       "\n",
       "   현지 맛에 가까워요  추천을 잘해줘요  라이브공연이 훌륭해요  파티하기 좋아요  반려동물과 가기 좋아요  잡내가 적어요  \n",
       "0         NaN       NaN          NaN       NaN           NaN      NaN  \n",
       "1         NaN       NaN          NaN       NaN           NaN      NaN  \n",
       "2         NaN       NaN          NaN       NaN           NaN      NaN  \n",
       "3         NaN       NaN          NaN       NaN           NaN      NaN  \n",
       "4         NaN       NaN          NaN       NaN           NaN      NaN  \n",
       "\n",
       "[5 rows x 56 columns]"
      ]
     },
     "execution_count": 23,
     "metadata": {},
     "output_type": "execute_result"
    }
   ],
   "source": [
    "l_df = pd.DataFrame.from_records(raw_df['like'])\n",
    "l_df.head()"
   ]
  },
  {
   "cell_type": "code",
   "execution_count": 24,
   "metadata": {},
   "outputs": [],
   "source": [
    "frequency = np.sum(~l_df.isna(), axis=0)\n",
    "cond1 = frequency > 1\n",
    "cond2 = frequency < 9000\n",
    "like_cols = sorted(frequency[np.where(cond1&cond2)[0]].index.values)"
   ]
  },
  {
   "cell_type": "code",
   "execution_count": 25,
   "metadata": {},
   "outputs": [],
   "source": [
    "l_df = l_df[like_cols].fillna(0)"
   ]
  },
  {
   "cell_type": "code",
   "execution_count": 26,
   "metadata": {},
   "outputs": [
    {
     "name": "stderr",
     "output_type": "stream",
     "text": [
      "100%|██████████| 12677/12677 [00:00<00:00, 13944.08it/s]\n"
     ]
    }
   ],
   "source": [
    "total_record = []\n",
    "for index in tqdm(l_df.index.values):\n",
    "    topk = np.argsort(l_df.values[index])[::-1]\n",
    "\n",
    "    cnt = 0\n",
    "    for t in topk:\n",
    "        if l_df.values[index, t] == 0 or cnt==5:\n",
    "            break\n",
    "        else :\n",
    "            total_record.append((raw_df['placeID'][index], l_df.columns[t]))\n",
    "            cnt += 1\n",
    "\n",
    "l_df = pd.DataFrame.from_records(total_record)\n",
    "l_df.columns = ['placeID', 'like']"
   ]
  },
  {
   "cell_type": "code",
   "execution_count": 27,
   "metadata": {},
   "outputs": [
    {
     "data": {
      "text/html": [
       "<div>\n",
       "<style scoped>\n",
       "    .dataframe tbody tr th:only-of-type {\n",
       "        vertical-align: middle;\n",
       "    }\n",
       "\n",
       "    .dataframe tbody tr th {\n",
       "        vertical-align: top;\n",
       "    }\n",
       "\n",
       "    .dataframe thead th {\n",
       "        text-align: right;\n",
       "    }\n",
       "</style>\n",
       "<table border=\"1\" class=\"dataframe\">\n",
       "  <thead>\n",
       "    <tr style=\"text-align: right;\">\n",
       "      <th></th>\n",
       "      <th>placeID</th>\n",
       "      <th>like</th>\n",
       "    </tr>\n",
       "  </thead>\n",
       "  <tbody>\n",
       "    <tr>\n",
       "      <th>0</th>\n",
       "      <td>밀밭정원서울마포구마포대로16길13</td>\n",
       "      <td>단체모임 하기 좋아요</td>\n",
       "    </tr>\n",
       "    <tr>\n",
       "      <th>1</th>\n",
       "      <td>밀밭정원서울마포구마포대로16길13</td>\n",
       "      <td>혼밥하기 좋아요</td>\n",
       "    </tr>\n",
       "    <tr>\n",
       "      <th>2</th>\n",
       "      <td>밀밭정원서울마포구마포대로16길13</td>\n",
       "      <td>뷰가 좋아요</td>\n",
       "    </tr>\n",
       "    <tr>\n",
       "      <th>3</th>\n",
       "      <td>밀밭정원서울마포구마포대로16길13</td>\n",
       "      <td>매장이 넓어요</td>\n",
       "    </tr>\n",
       "    <tr>\n",
       "      <th>4</th>\n",
       "      <td>밀밭정원서울마포구마포대로16길13</td>\n",
       "      <td>화장실이 깨끗해요</td>\n",
       "    </tr>\n",
       "    <tr>\n",
       "      <th>5</th>\n",
       "      <td>식스센스다이닝BAR서울동대문구왕산로2길9(2층방역룸예약)</td>\n",
       "      <td>인테리어가 멋져요</td>\n",
       "    </tr>\n",
       "    <tr>\n",
       "      <th>6</th>\n",
       "      <td>식스센스다이닝BAR서울동대문구왕산로2길9(2층방역룸예약)</td>\n",
       "      <td>술이 다양해요</td>\n",
       "    </tr>\n",
       "    <tr>\n",
       "      <th>7</th>\n",
       "      <td>식스센스다이닝BAR서울동대문구왕산로2길9(2층방역룸예약)</td>\n",
       "      <td>오래 머무르기 좋아요</td>\n",
       "    </tr>\n",
       "    <tr>\n",
       "      <th>8</th>\n",
       "      <td>식스센스다이닝BAR서울동대문구왕산로2길9(2층방역룸예약)</td>\n",
       "      <td>대화하기 좋아요</td>\n",
       "    </tr>\n",
       "    <tr>\n",
       "      <th>9</th>\n",
       "      <td>식스센스다이닝BAR서울동대문구왕산로2길9(2층방역룸예약)</td>\n",
       "      <td>화장실이 깨끗해요</td>\n",
       "    </tr>\n",
       "  </tbody>\n",
       "</table>\n",
       "</div>"
      ],
      "text/plain": [
       "                           placeID         like\n",
       "0               밀밭정원서울마포구마포대로16길13  단체모임 하기 좋아요\n",
       "1               밀밭정원서울마포구마포대로16길13     혼밥하기 좋아요\n",
       "2               밀밭정원서울마포구마포대로16길13       뷰가 좋아요\n",
       "3               밀밭정원서울마포구마포대로16길13      매장이 넓어요\n",
       "4               밀밭정원서울마포구마포대로16길13    화장실이 깨끗해요\n",
       "5  식스센스다이닝BAR서울동대문구왕산로2길9(2층방역룸예약)    인테리어가 멋져요\n",
       "6  식스센스다이닝BAR서울동대문구왕산로2길9(2층방역룸예약)      술이 다양해요\n",
       "7  식스센스다이닝BAR서울동대문구왕산로2길9(2층방역룸예약)  오래 머무르기 좋아요\n",
       "8  식스센스다이닝BAR서울동대문구왕산로2길9(2층방역룸예약)     대화하기 좋아요\n",
       "9  식스센스다이닝BAR서울동대문구왕산로2길9(2층방역룸예약)    화장실이 깨끗해요"
      ]
     },
     "execution_count": 27,
     "metadata": {},
     "output_type": "execute_result"
    }
   ],
   "source": [
    "l_df.head(10)"
   ]
  },
  {
   "cell_type": "markdown",
   "metadata": {},
   "source": [
    "#### Menu"
   ]
  },
  {
   "cell_type": "code",
   "execution_count": 28,
   "metadata": {},
   "outputs": [
    {
     "data": {
      "text/html": [
       "<div>\n",
       "<style scoped>\n",
       "    .dataframe tbody tr th:only-of-type {\n",
       "        vertical-align: middle;\n",
       "    }\n",
       "\n",
       "    .dataframe tbody tr th {\n",
       "        vertical-align: top;\n",
       "    }\n",
       "\n",
       "    .dataframe thead th {\n",
       "        text-align: right;\n",
       "    }\n",
       "</style>\n",
       "<table border=\"1\" class=\"dataframe\">\n",
       "  <thead>\n",
       "    <tr style=\"text-align: right;\">\n",
       "      <th></th>\n",
       "      <th>placeID</th>\n",
       "      <th>menulabel</th>\n",
       "    </tr>\n",
       "  </thead>\n",
       "  <tbody>\n",
       "    <tr>\n",
       "      <th>0</th>\n",
       "      <td>밀밭정원서울마포구마포대로16길13</td>\n",
       "      <td>30000이하</td>\n",
       "    </tr>\n",
       "    <tr>\n",
       "      <th>1</th>\n",
       "      <td>식스센스다이닝BAR서울동대문구왕산로2길9(2층방역룸예약)</td>\n",
       "      <td>30000이상</td>\n",
       "    </tr>\n",
       "    <tr>\n",
       "      <th>2</th>\n",
       "      <td>동북양꼬치서울영등포구디지털로37길26-1</td>\n",
       "      <td>30000이하</td>\n",
       "    </tr>\n",
       "    <tr>\n",
       "      <th>3</th>\n",
       "      <td>농부쌈밥서울동작구사당로30길19</td>\n",
       "      <td>10000이하</td>\n",
       "    </tr>\n",
       "    <tr>\n",
       "      <th>4</th>\n",
       "      <td>홍당무김밥서울영등포구문래로180영등포센트럴푸르지오시티</td>\n",
       "      <td>10000이하</td>\n",
       "    </tr>\n",
       "  </tbody>\n",
       "</table>\n",
       "</div>"
      ],
      "text/plain": [
       "                           placeID menulabel\n",
       "0               밀밭정원서울마포구마포대로16길13   30000이하\n",
       "1  식스센스다이닝BAR서울동대문구왕산로2길9(2층방역룸예약)   30000이상\n",
       "2           동북양꼬치서울영등포구디지털로37길26-1   30000이하\n",
       "3                농부쌈밥서울동작구사당로30길19   10000이하\n",
       "4    홍당무김밥서울영등포구문래로180영등포센트럴푸르지오시티   10000이하"
      ]
     },
     "execution_count": 28,
     "metadata": {},
     "output_type": "execute_result"
    }
   ],
   "source": [
    "m_df = raw_df[['placeID', 'menulabel']]\n",
    "m_df = m_df.dropna()\n",
    "m_df.head()"
   ]
  },
  {
   "cell_type": "markdown",
   "metadata": {},
   "source": [
    "#### Age"
   ]
  },
  {
   "cell_type": "code",
   "execution_count": 29,
   "metadata": {},
   "outputs": [
    {
     "data": {
      "text/html": [
       "<div>\n",
       "<style scoped>\n",
       "    .dataframe tbody tr th:only-of-type {\n",
       "        vertical-align: middle;\n",
       "    }\n",
       "\n",
       "    .dataframe tbody tr th {\n",
       "        vertical-align: top;\n",
       "    }\n",
       "\n",
       "    .dataframe thead th {\n",
       "        text-align: right;\n",
       "    }\n",
       "</style>\n",
       "<table border=\"1\" class=\"dataframe\">\n",
       "  <thead>\n",
       "    <tr style=\"text-align: right;\">\n",
       "      <th></th>\n",
       "      <th>placeID</th>\n",
       "      <th>ageLabel</th>\n",
       "    </tr>\n",
       "  </thead>\n",
       "  <tbody>\n",
       "    <tr>\n",
       "      <th>0</th>\n",
       "      <td>밀밭정원서울마포구마포대로16길13</td>\n",
       "      <td>[50대, 40대, 60대]</td>\n",
       "    </tr>\n",
       "    <tr>\n",
       "      <th>1</th>\n",
       "      <td>식스센스다이닝BAR서울동대문구왕산로2길9(2층방역룸예약)</td>\n",
       "      <td>[20대, 30대, 40대]</td>\n",
       "    </tr>\n",
       "    <tr>\n",
       "      <th>2</th>\n",
       "      <td>동북양꼬치서울영등포구디지털로37길26-1</td>\n",
       "      <td>[]</td>\n",
       "    </tr>\n",
       "    <tr>\n",
       "      <th>3</th>\n",
       "      <td>농부쌈밥서울동작구사당로30길19</td>\n",
       "      <td>[20대, 30대, 40대]</td>\n",
       "    </tr>\n",
       "    <tr>\n",
       "      <th>4</th>\n",
       "      <td>홍당무김밥서울영등포구문래로180영등포센트럴푸르지오시티</td>\n",
       "      <td>[]</td>\n",
       "    </tr>\n",
       "  </tbody>\n",
       "</table>\n",
       "</div>"
      ],
      "text/plain": [
       "                           placeID         ageLabel\n",
       "0               밀밭정원서울마포구마포대로16길13  [50대, 40대, 60대]\n",
       "1  식스센스다이닝BAR서울동대문구왕산로2길9(2층방역룸예약)  [20대, 30대, 40대]\n",
       "2           동북양꼬치서울영등포구디지털로37길26-1               []\n",
       "3                농부쌈밥서울동작구사당로30길19  [20대, 30대, 40대]\n",
       "4    홍당무김밥서울영등포구문래로180영등포센트럴푸르지오시티               []"
      ]
     },
     "execution_count": 29,
     "metadata": {},
     "output_type": "execute_result"
    }
   ],
   "source": [
    "a_df = raw_df[['placeID', 'ageLabel']]\n",
    "a_df.head()"
   ]
  },
  {
   "cell_type": "code",
   "execution_count": 30,
   "metadata": {},
   "outputs": [],
   "source": [
    "a_df = pd.DataFrame([\n",
    "    [id, age] for id, ages in a_df.itertuples(index=False)\n",
    "    for age in ages\n",
    "], columns=a_df.columns)"
   ]
  },
  {
   "cell_type": "code",
   "execution_count": 31,
   "metadata": {},
   "outputs": [
    {
     "data": {
      "text/html": [
       "<div>\n",
       "<style scoped>\n",
       "    .dataframe tbody tr th:only-of-type {\n",
       "        vertical-align: middle;\n",
       "    }\n",
       "\n",
       "    .dataframe tbody tr th {\n",
       "        vertical-align: top;\n",
       "    }\n",
       "\n",
       "    .dataframe thead th {\n",
       "        text-align: right;\n",
       "    }\n",
       "</style>\n",
       "<table border=\"1\" class=\"dataframe\">\n",
       "  <thead>\n",
       "    <tr style=\"text-align: right;\">\n",
       "      <th></th>\n",
       "      <th>placeID</th>\n",
       "      <th>ageLabel</th>\n",
       "    </tr>\n",
       "  </thead>\n",
       "  <tbody>\n",
       "    <tr>\n",
       "      <th>0</th>\n",
       "      <td>밀밭정원서울마포구마포대로16길13</td>\n",
       "      <td>50대</td>\n",
       "    </tr>\n",
       "    <tr>\n",
       "      <th>1</th>\n",
       "      <td>밀밭정원서울마포구마포대로16길13</td>\n",
       "      <td>40대</td>\n",
       "    </tr>\n",
       "    <tr>\n",
       "      <th>2</th>\n",
       "      <td>밀밭정원서울마포구마포대로16길13</td>\n",
       "      <td>60대</td>\n",
       "    </tr>\n",
       "    <tr>\n",
       "      <th>3</th>\n",
       "      <td>식스센스다이닝BAR서울동대문구왕산로2길9(2층방역룸예약)</td>\n",
       "      <td>20대</td>\n",
       "    </tr>\n",
       "    <tr>\n",
       "      <th>4</th>\n",
       "      <td>식스센스다이닝BAR서울동대문구왕산로2길9(2층방역룸예약)</td>\n",
       "      <td>30대</td>\n",
       "    </tr>\n",
       "  </tbody>\n",
       "</table>\n",
       "</div>"
      ],
      "text/plain": [
       "                           placeID ageLabel\n",
       "0               밀밭정원서울마포구마포대로16길13      50대\n",
       "1               밀밭정원서울마포구마포대로16길13      40대\n",
       "2               밀밭정원서울마포구마포대로16길13      60대\n",
       "3  식스센스다이닝BAR서울동대문구왕산로2길9(2층방역룸예약)      20대\n",
       "4  식스센스다이닝BAR서울동대문구왕산로2길9(2층방역룸예약)      30대"
      ]
     },
     "execution_count": 31,
     "metadata": {},
     "output_type": "execute_result"
    }
   ],
   "source": [
    "a_df.head()"
   ]
  },
  {
   "cell_type": "markdown",
   "metadata": {},
   "source": [
    "#### Rating"
   ]
  },
  {
   "cell_type": "code",
   "execution_count": 32,
   "metadata": {},
   "outputs": [
    {
     "data": {
      "text/html": [
       "<div>\n",
       "<style scoped>\n",
       "    .dataframe tbody tr th:only-of-type {\n",
       "        vertical-align: middle;\n",
       "    }\n",
       "\n",
       "    .dataframe tbody tr th {\n",
       "        vertical-align: top;\n",
       "    }\n",
       "\n",
       "    .dataframe thead th {\n",
       "        text-align: right;\n",
       "    }\n",
       "</style>\n",
       "<table border=\"1\" class=\"dataframe\">\n",
       "  <thead>\n",
       "    <tr style=\"text-align: right;\">\n",
       "      <th></th>\n",
       "      <th>placeID</th>\n",
       "      <th>ratingLabel</th>\n",
       "    </tr>\n",
       "  </thead>\n",
       "  <tbody>\n",
       "    <tr>\n",
       "      <th>0</th>\n",
       "      <td>밀밭정원서울마포구마포대로16길13</td>\n",
       "      <td>4.5이하</td>\n",
       "    </tr>\n",
       "    <tr>\n",
       "      <th>1</th>\n",
       "      <td>식스센스다이닝BAR서울동대문구왕산로2길9(2층방역룸예약)</td>\n",
       "      <td>4.5이상</td>\n",
       "    </tr>\n",
       "    <tr>\n",
       "      <th>2</th>\n",
       "      <td>동북양꼬치서울영등포구디지털로37길26-1</td>\n",
       "      <td>4.5이하</td>\n",
       "    </tr>\n",
       "    <tr>\n",
       "      <th>3</th>\n",
       "      <td>농부쌈밥서울동작구사당로30길19</td>\n",
       "      <td>4.5이하</td>\n",
       "    </tr>\n",
       "    <tr>\n",
       "      <th>4</th>\n",
       "      <td>홍당무김밥서울영등포구문래로180영등포센트럴푸르지오시티</td>\n",
       "      <td>4.5이하</td>\n",
       "    </tr>\n",
       "  </tbody>\n",
       "</table>\n",
       "</div>"
      ],
      "text/plain": [
       "                           placeID ratingLabel\n",
       "0               밀밭정원서울마포구마포대로16길13       4.5이하\n",
       "1  식스센스다이닝BAR서울동대문구왕산로2길9(2층방역룸예약)       4.5이상\n",
       "2           동북양꼬치서울영등포구디지털로37길26-1       4.5이하\n",
       "3                농부쌈밥서울동작구사당로30길19       4.5이하\n",
       "4    홍당무김밥서울영등포구문래로180영등포센트럴푸르지오시티       4.5이하"
      ]
     },
     "execution_count": 32,
     "metadata": {},
     "output_type": "execute_result"
    }
   ],
   "source": [
    "r_df = raw_df[['placeID', 'ratingLabel']]\n",
    "r_df.head()"
   ]
  },
  {
   "cell_type": "markdown",
   "metadata": {},
   "source": [
    "#### Visit"
   ]
  },
  {
   "cell_type": "code",
   "execution_count": 33,
   "metadata": {},
   "outputs": [
    {
     "data": {
      "text/html": [
       "<div>\n",
       "<style scoped>\n",
       "    .dataframe tbody tr th:only-of-type {\n",
       "        vertical-align: middle;\n",
       "    }\n",
       "\n",
       "    .dataframe tbody tr th {\n",
       "        vertical-align: top;\n",
       "    }\n",
       "\n",
       "    .dataframe thead th {\n",
       "        text-align: right;\n",
       "    }\n",
       "</style>\n",
       "<table border=\"1\" class=\"dataframe\">\n",
       "  <thead>\n",
       "    <tr style=\"text-align: right;\">\n",
       "      <th></th>\n",
       "      <th>placeID</th>\n",
       "      <th>visitLabel</th>\n",
       "    </tr>\n",
       "  </thead>\n",
       "  <tbody>\n",
       "    <tr>\n",
       "      <th>0</th>\n",
       "      <td>밀밭정원서울마포구마포대로16길13</td>\n",
       "      <td>visitQ2</td>\n",
       "    </tr>\n",
       "    <tr>\n",
       "      <th>1</th>\n",
       "      <td>식스센스다이닝BAR서울동대문구왕산로2길9(2층방역룸예약)</td>\n",
       "      <td>visitQ3</td>\n",
       "    </tr>\n",
       "    <tr>\n",
       "      <th>2</th>\n",
       "      <td>동북양꼬치서울영등포구디지털로37길26-1</td>\n",
       "      <td>visitQ1</td>\n",
       "    </tr>\n",
       "    <tr>\n",
       "      <th>3</th>\n",
       "      <td>농부쌈밥서울동작구사당로30길19</td>\n",
       "      <td>visitQ4</td>\n",
       "    </tr>\n",
       "    <tr>\n",
       "      <th>4</th>\n",
       "      <td>홍당무김밥서울영등포구문래로180영등포센트럴푸르지오시티</td>\n",
       "      <td>visitQ3</td>\n",
       "    </tr>\n",
       "  </tbody>\n",
       "</table>\n",
       "</div>"
      ],
      "text/plain": [
       "                           placeID visitLabel\n",
       "0               밀밭정원서울마포구마포대로16길13    visitQ2\n",
       "1  식스센스다이닝BAR서울동대문구왕산로2길9(2층방역룸예약)    visitQ3\n",
       "2           동북양꼬치서울영등포구디지털로37길26-1    visitQ1\n",
       "3                농부쌈밥서울동작구사당로30길19    visitQ4\n",
       "4    홍당무김밥서울영등포구문래로180영등포센트럴푸르지오시티    visitQ3"
      ]
     },
     "execution_count": 33,
     "metadata": {},
     "output_type": "execute_result"
    }
   ],
   "source": [
    "v_df = raw_df[['placeID', 'visitLabel']]\n",
    "v_df.head()"
   ]
  },
  {
   "cell_type": "markdown",
   "metadata": {},
   "source": [
    "#### Blog"
   ]
  },
  {
   "cell_type": "code",
   "execution_count": 34,
   "metadata": {},
   "outputs": [
    {
     "data": {
      "text/html": [
       "<div>\n",
       "<style scoped>\n",
       "    .dataframe tbody tr th:only-of-type {\n",
       "        vertical-align: middle;\n",
       "    }\n",
       "\n",
       "    .dataframe tbody tr th {\n",
       "        vertical-align: top;\n",
       "    }\n",
       "\n",
       "    .dataframe thead th {\n",
       "        text-align: right;\n",
       "    }\n",
       "</style>\n",
       "<table border=\"1\" class=\"dataframe\">\n",
       "  <thead>\n",
       "    <tr style=\"text-align: right;\">\n",
       "      <th></th>\n",
       "      <th>placeID</th>\n",
       "      <th>blogLabel</th>\n",
       "    </tr>\n",
       "  </thead>\n",
       "  <tbody>\n",
       "    <tr>\n",
       "      <th>0</th>\n",
       "      <td>밀밭정원서울마포구마포대로16길13</td>\n",
       "      <td>blogQ2</td>\n",
       "    </tr>\n",
       "    <tr>\n",
       "      <th>1</th>\n",
       "      <td>식스센스다이닝BAR서울동대문구왕산로2길9(2층방역룸예약)</td>\n",
       "      <td>blogQ4</td>\n",
       "    </tr>\n",
       "    <tr>\n",
       "      <th>2</th>\n",
       "      <td>동북양꼬치서울영등포구디지털로37길26-1</td>\n",
       "      <td>blogQ1</td>\n",
       "    </tr>\n",
       "    <tr>\n",
       "      <th>3</th>\n",
       "      <td>농부쌈밥서울동작구사당로30길19</td>\n",
       "      <td>blogQ4</td>\n",
       "    </tr>\n",
       "    <tr>\n",
       "      <th>4</th>\n",
       "      <td>홍당무김밥서울영등포구문래로180영등포센트럴푸르지오시티</td>\n",
       "      <td>blogQ1</td>\n",
       "    </tr>\n",
       "  </tbody>\n",
       "</table>\n",
       "</div>"
      ],
      "text/plain": [
       "                           placeID blogLabel\n",
       "0               밀밭정원서울마포구마포대로16길13    blogQ2\n",
       "1  식스센스다이닝BAR서울동대문구왕산로2길9(2층방역룸예약)    blogQ4\n",
       "2           동북양꼬치서울영등포구디지털로37길26-1    blogQ1\n",
       "3                농부쌈밥서울동작구사당로30길19    blogQ4\n",
       "4    홍당무김밥서울영등포구문래로180영등포센트럴푸르지오시티    blogQ1"
      ]
     },
     "execution_count": 34,
     "metadata": {},
     "output_type": "execute_result"
    }
   ],
   "source": [
    "b_df = raw_df[['placeID', 'blogLabel']]\n",
    "b_df.head()"
   ]
  },
  {
   "cell_type": "markdown",
   "metadata": {},
   "source": [
    "## Reamp IDs"
   ]
  },
  {
   "cell_type": "code",
   "execution_count": 35,
   "metadata": {},
   "outputs": [],
   "source": [
    "def remap_id(id_lst) :\n",
    "    id_lst.sort()\n",
    "    id_to_idx, idx_to_id = dict(), dict()\n",
    "    for index, value in enumerate(id_lst) :\n",
    "        id_to_idx[value] = index\n",
    "        idx_to_id[index] = value\n",
    "    return id_to_idx, idx_to_id "
   ]
  },
  {
   "cell_type": "markdown",
   "metadata": {},
   "source": [
    "#### All Features"
   ]
  },
  {
   "cell_type": "code",
   "execution_count": 36,
   "metadata": {},
   "outputs": [
    {
     "name": "stderr",
     "output_type": "stream",
     "text": [
      "/tmp/ipykernel_87559/1373499250.py:5: SettingWithCopyWarning: \n",
      "A value is trying to be set on a copy of a slice from a DataFrame\n",
      "\n",
      "See the caveats in the documentation: https://pandas.pydata.org/pandas-docs/stable/user_guide/indexing.html#returning-a-view-versus-a-copy\n",
      "  r_df.rename(columns={'ratingLabel':'feature'}, inplace=True)\n",
      "/tmp/ipykernel_87559/1373499250.py:6: SettingWithCopyWarning: \n",
      "A value is trying to be set on a copy of a slice from a DataFrame\n",
      "\n",
      "See the caveats in the documentation: https://pandas.pydata.org/pandas-docs/stable/user_guide/indexing.html#returning-a-view-versus-a-copy\n",
      "  v_df.rename(columns={'visitLabel':'feature'}, inplace=True)\n",
      "/tmp/ipykernel_87559/1373499250.py:7: SettingWithCopyWarning: \n",
      "A value is trying to be set on a copy of a slice from a DataFrame\n",
      "\n",
      "See the caveats in the documentation: https://pandas.pydata.org/pandas-docs/stable/user_guide/indexing.html#returning-a-view-versus-a-copy\n",
      "  b_df.rename(columns={'blogLabel':'feature'}, inplace=True)\n"
     ]
    }
   ],
   "source": [
    "k_df.rename(columns={'prepThemeKeywords':'feature'}, inplace=True)\n",
    "l_df.rename(columns={'like':'feature'}, inplace=True)\n",
    "m_df.rename(columns={'menulabel':'feature'}, inplace=True)\n",
    "a_df.rename(columns={'ageLabel':'feature'}, inplace=True)\n",
    "r_df.rename(columns={'ratingLabel':'feature'}, inplace=True)\n",
    "v_df.rename(columns={'visitLabel':'feature'}, inplace=True)\n",
    "b_df.rename(columns={'blogLabel':'feature'}, inplace=True)"
   ]
  },
  {
   "cell_type": "code",
   "execution_count": 64,
   "metadata": {},
   "outputs": [
    {
     "name": "stderr",
     "output_type": "stream",
     "text": [
      "/tmp/ipykernel_87559/844016526.py:8: SettingWithCopyWarning: \n",
      "A value is trying to be set on a copy of a slice from a DataFrame\n",
      "\n",
      "See the caveats in the documentation: https://pandas.pydata.org/pandas-docs/stable/user_guide/indexing.html#returning-a-view-versus-a-copy\n",
      "  meta_df.rename(columns={'meta':'feature'}, inplace=True)\n"
     ]
    }
   ],
   "source": [
    "# metadata 1개 컬럼으로\n",
    "meta_df_col = ['placeID', 'menulabel','ageLabel', 'ratingLabel', 'visitLabel','blogLabel']\n",
    "raw_df['meta'] = raw_df['menulabel']\n",
    "for col in meta_df_col[2:]:\n",
    "    raw_df['meta'] += raw_df[col].astype(str)\n",
    "\n",
    "meta_df = raw_df[['placeID','meta']]\n",
    "meta_df.rename(columns={'meta':'feature'}, inplace=True)"
   ]
  },
  {
   "cell_type": "code",
   "execution_count": 71,
   "metadata": {},
   "outputs": [],
   "source": [
    "all_df = pd.concat([p_df, k_df, l_df, m_df, a_df, r_df, v_df, b_df], axis=0)\n",
    "plactypelike_df = pd.concat([p_df, k_df, l_df], axis=0)\n",
    "plactypelikemeta_df = pd.concat([p_df, k_df, l_df, meta_df], axis=0)\n",
    "# plactype_df = pd.concat([p_df, k_df, l_df], axis=0)\n",
    "\n",
    "all_df.to_csv(data_dir+'all_df.csv',index=False)\n",
    "plactypelike_df.to_csv(data_dir+'plactypelike_df.csv',index=False)\n",
    "plactypelikemeta_df.to_csv(data_dir+'plactypelikemeta_df.csv',index=False)"
   ]
  }
 ],
 "metadata": {
  "interpreter": {
   "hash": "d4d1e4263499bec80672ea0156c357c1ee493ec2b1c70f0acce89fc37c4a6abe"
  },
  "kernelspec": {
   "display_name": "Python ('lightgcn')",
   "language": "python",
   "name": "python3"
  },
  "language_info": {
   "codemirror_mode": {
    "name": "ipython",
    "version": 3
   },
   "file_extension": ".py",
   "mimetype": "text/x-python",
   "name": "python",
   "nbconvert_exporter": "python",
   "pygments_lexer": "ipython3",
   "version": "3.8.5"
  },
  "orig_nbformat": 4
 },
 "nbformat": 4,
 "nbformat_minor": 2
}
