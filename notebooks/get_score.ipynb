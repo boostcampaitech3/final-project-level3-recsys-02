{
 "cells": [
  {
   "cell_type": "markdown",
   "id": "3aeb2d93",
   "metadata": {},
   "source": [
    "### performance check"
   ]
  },
  {
   "cell_type": "code",
   "execution_count": 1,
   "id": "ee2b69c3",
   "metadata": {},
   "outputs": [],
   "source": [
    "import os\n",
    "import sys\n",
    "sys.path.append('../')\n",
    "import argparse\n",
    "import asyncio\n",
    "import json\n",
    "import torch\n",
    "import pandas as pd\n",
    "import numpy as np\n",
    "import random\n",
    "from models.model import CossimRecommender\n",
    "import pickle\n",
    "from tqdm import tqdm\n"
   ]
  },
  {
   "cell_type": "code",
   "execution_count": 2,
   "id": "03e35fa0",
   "metadata": {},
   "outputs": [],
   "source": [
    "data_dir = '/opt/ml/final-project-level3-recsys-02/data/'\n",
    "recommender = CossimRecommender(data_dir,'metapath_embeddings')"
   ]
  },
  {
   "cell_type": "code",
   "execution_count": 3,
   "id": "ffccf77c",
   "metadata": {},
   "outputs": [],
   "source": [
    "place = recommender.map_loader.place\n",
    "id2place = recommender.id2place\n",
    "place_id2idx = recommender.place2id\n",
    "all_df = pd.read_csv(data_dir + 'all_df.csv')"
   ]
  },
  {
   "cell_type": "code",
   "execution_count": 4,
   "id": "7d55a528",
   "metadata": {},
   "outputs": [],
   "source": [
    "def jaccard_similarity(list1, list2): \n",
    "    s1 = set(list1)\n",
    "    s2 = set(list2)\n",
    "    if len(s1.union(s2)):\n",
    "        return float(len(s1.intersection(s2)) / len(s1.union(s2)))\n",
    "    return 0"
   ]
  },
  {
   "cell_type": "code",
   "execution_count": 5,
   "id": "a7ddd86f",
   "metadata": {},
   "outputs": [],
   "source": [
    "def get_feat_list(df, place_id, feature):\n",
    "    return df[df.placeID == place_id][feature].tolist()"
   ]
  },
  {
   "cell_type": "code",
   "execution_count": 6,
   "id": "cbd4562b",
   "metadata": {},
   "outputs": [],
   "source": [
    "def compare_random(place_id, df, column):\n",
    "    lonlan = place[place.placeID == id2place[place_id]]['map'].values[0]\n",
    "    nearest_list = recommender.map_loader.filtermap(lonlan)\n",
    "\n",
    "    \n",
    "    m2v_topk = recommender.recommend(lonlan, place_id)\n",
    "    random_topk = np.array(random.sample(nearest_list, k = min(len(nearest_list), 5)))\n",
    "\n",
    "    m2v_score, random_score = 0, 0\n",
    "\n",
    "    target_feat_list = get_feat_list(df, id2place[place_id], column)\n",
    "\n",
    "    for placename in m2v_topk:\n",
    "        rec_feat_list = get_feat_list(df, placename, column)\n",
    "        m2v_score += jaccard_similarity(target_feat_list, rec_feat_list)\n",
    "\n",
    "    for randomname in random_topk:\n",
    "        rec_feat_list = get_feat_list(df, randomname, column)\n",
    "        random_score += jaccard_similarity(target_feat_list, rec_feat_list)\n",
    "\n",
    "    return m2v_score, random_score\n"
   ]
  },
  {
   "cell_type": "code",
   "execution_count": 7,
   "id": "4c022688",
   "metadata": {},
   "outputs": [],
   "source": [
    "def mean_score():\n",
    "    mean_m2v, mean_random = 0, 0\n",
    "\n",
    "    for i in tqdm(id2place.keys()):\n",
    "        m2v_score, random_score = compare_random(i, all_df, 'feature')\n",
    "        mean_m2v += m2v_score\n",
    "        mean_random += random_score\n",
    "\n",
    "    return mean_m2v, mean_random"
   ]
  },
  {
   "cell_type": "code",
   "execution_count": 8,
   "id": "c259397f",
   "metadata": {},
   "outputs": [
    {
     "name": "stderr",
     "output_type": "stream",
     "text": [
      "  1%|          | 70/12677 [00:18<47:06,  4.46it/s]  "
     ]
    }
   ],
   "source": [
    "mean_score()"
   ]
  },
  {
   "cell_type": "code",
   "execution_count": null,
   "id": "0d174e69",
   "metadata": {},
   "outputs": [],
   "source": []
  }
 ],
 "metadata": {
  "interpreter": {
   "hash": "d4d1e4263499bec80672ea0156c357c1ee493ec2b1c70f0acce89fc37c4a6abe"
  },
  "kernelspec": {
   "display_name": "Python ('lightgcn')",
   "language": "python",
   "name": "python3"
  },
  "language_info": {
   "codemirror_mode": {
    "name": "ipython",
    "version": 3
   },
   "file_extension": ".py",
   "mimetype": "text/x-python",
   "name": "python",
   "nbconvert_exporter": "python",
   "pygments_lexer": "ipython3",
   "version": "3.8.5"
  }
 },
 "nbformat": 4,
 "nbformat_minor": 5
}
