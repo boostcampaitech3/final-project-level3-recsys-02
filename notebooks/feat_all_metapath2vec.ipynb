{
 "cells": [
  {
   "cell_type": "code",
   "execution_count": 1,
   "metadata": {},
   "outputs": [
    {
     "name": "stderr",
     "output_type": "stream",
     "text": [
      "/opt/conda/lib/python3.8/site-packages/tqdm/auto.py:22: TqdmWarning: IProgress not found. Please update jupyter and ipywidgets. See https://ipywidgets.readthedocs.io/en/stable/user_install.html\n",
      "  from .autonotebook import tqdm as notebook_tqdm\n",
      "<frozen importlib._bootstrap>:219: RuntimeWarning: scipy._lib.messagestream.MessageStream size changed, may indicate binary incompatibility. Expected 56 from C header, got 64 from PyObject\n"
     ]
    }
   ],
   "source": [
    "import pandas as pd\n",
    "import numpy as np\n",
    "import dgl\n",
    "import torch\n",
    "from tqdm import tqdm, trange\n",
    "from torch.utils.data import Dataset, DataLoader\n",
    "import torch.nn as nn\n",
    "import torch.nn.functional as F\n",
    "from torch.nn import init\n",
    "import torch.optim as optim\n",
    "from konlpy.tag import *\n",
    "from collections import Counter\n",
    "from sklearn.metrics.pairwise import cosine_similarity\n",
    "import random\n",
    "import pickle\n",
    "import os"
   ]
  },
  {
   "cell_type": "code",
   "execution_count": 2,
   "metadata": {},
   "outputs": [],
   "source": [
    "data_dir = '/opt/ml/final-project-level3-recsys-02/data/'"
   ]
  },
  {
   "cell_type": "code",
   "execution_count": 3,
   "metadata": {},
   "outputs": [],
   "source": [
    "with open(data_dir + 'food.pickle', 'rb') as f :\n",
    "    raw_df = pickle.load(f)\n",
    "USE_COLS = ['placeName', 'placeType', 'placeAddress', 'themeKeywords','like', 'menulabel', 'ageLabel', 'ratingLabel',  'visitLabel', 'blogLabel']\n",
    "raw_df = raw_df[USE_COLS]\n",
    "raw_df = raw_df[~raw_df.placeType.str.contains('성급')].reset_index().copy()\n"
   ]
  },
  {
   "cell_type": "code",
   "execution_count": 4,
   "metadata": {},
   "outputs": [],
   "source": [
    "raw_df['placeID'] = raw_df.apply(lambda x : x['placeName'] + x['placeAddress'], axis = 1)\n",
    "raw_df['placeID'] = raw_df['placeID'].apply(lambda x : x.replace(\" \", \"\"))"
   ]
  },
  {
   "cell_type": "markdown",
   "metadata": {},
   "source": [
    "### Place type"
   ]
  },
  {
   "cell_type": "code",
   "execution_count": 5,
   "metadata": {},
   "outputs": [
    {
     "data": {
      "text/html": [
       "<div>\n",
       "<style scoped>\n",
       "    .dataframe tbody tr th:only-of-type {\n",
       "        vertical-align: middle;\n",
       "    }\n",
       "\n",
       "    .dataframe tbody tr th {\n",
       "        vertical-align: top;\n",
       "    }\n",
       "\n",
       "    .dataframe thead th {\n",
       "        text-align: right;\n",
       "    }\n",
       "</style>\n",
       "<table border=\"1\" class=\"dataframe\">\n",
       "  <thead>\n",
       "    <tr style=\"text-align: right;\">\n",
       "      <th></th>\n",
       "      <th>placeID</th>\n",
       "      <th>feature</th>\n",
       "    </tr>\n",
       "  </thead>\n",
       "  <tbody>\n",
       "    <tr>\n",
       "      <th>0</th>\n",
       "      <td>밀밭정원서울마포구마포대로16길13</td>\n",
       "      <td>칼국수,만두</td>\n",
       "    </tr>\n",
       "    <tr>\n",
       "      <th>1</th>\n",
       "      <td>식스센스다이닝BAR서울동대문구왕산로2길9(2층방역룸예약)</td>\n",
       "      <td>바(BAR)</td>\n",
       "    </tr>\n",
       "    <tr>\n",
       "      <th>2</th>\n",
       "      <td>동북양꼬치서울영등포구디지털로37길26-1</td>\n",
       "      <td>양꼬치</td>\n",
       "    </tr>\n",
       "    <tr>\n",
       "      <th>3</th>\n",
       "      <td>농부쌈밥서울동작구사당로30길19</td>\n",
       "      <td>쌈밥</td>\n",
       "    </tr>\n",
       "    <tr>\n",
       "      <th>4</th>\n",
       "      <td>홍당무김밥서울영등포구문래로180영등포센트럴푸르지오시티</td>\n",
       "      <td>김밥</td>\n",
       "    </tr>\n",
       "  </tbody>\n",
       "</table>\n",
       "</div>"
      ],
      "text/plain": [
       "                           placeID feature\n",
       "0               밀밭정원서울마포구마포대로16길13  칼국수,만두\n",
       "1  식스센스다이닝BAR서울동대문구왕산로2길9(2층방역룸예약)  바(BAR)\n",
       "2           동북양꼬치서울영등포구디지털로37길26-1     양꼬치\n",
       "3                농부쌈밥서울동작구사당로30길19      쌈밥\n",
       "4    홍당무김밥서울영등포구문래로180영등포센트럴푸르지오시티      김밥"
      ]
     },
     "execution_count": 5,
     "metadata": {},
     "output_type": "execute_result"
    }
   ],
   "source": [
    "p_df = raw_df[['placeID', 'placeType']]\n",
    "p_df.columns = ['placeID', 'feature']\n",
    "p_df.head()"
   ]
  },
  {
   "cell_type": "code",
   "execution_count": 6,
   "metadata": {},
   "outputs": [],
   "source": [
    "for idx, value in enumerate(p_df.iterrows()):\n",
    "    if not p_df['feature'][idx]:\n",
    "        p_df['placeID']"
   ]
  },
  {
   "cell_type": "code",
   "execution_count": 7,
   "metadata": {},
   "outputs": [
    {
     "name": "stderr",
     "output_type": "stream",
     "text": [
      "/tmp/ipykernel_9250/3755599053.py:1: SettingWithCopyWarning: \n",
      "A value is trying to be set on a copy of a slice from a DataFrame.\n",
      "Try using .loc[row_indexer,col_indexer] = value instead\n",
      "\n",
      "See the caveats in the documentation: https://pandas.pydata.org/pandas-docs/stable/user_guide/indexing.html#returning-a-view-versus-a-copy\n",
      "  p_df['feature'] = p_df['feature'].apply(lambda x : x.split(','))\n"
     ]
    }
   ],
   "source": [
    "p_df['feature'] = p_df['feature'].apply(lambda x : x.split(','))"
   ]
  },
  {
   "cell_type": "code",
   "execution_count": 8,
   "metadata": {},
   "outputs": [],
   "source": [
    "p_df = pd.DataFrame([\n",
    "    [place_id, feature] for place_id, features in p_df.itertuples(index=False)\n",
    "    for feature in features\n",
    "    ], columns=p_df.columns)"
   ]
  },
  {
   "cell_type": "code",
   "execution_count": 9,
   "metadata": {},
   "outputs": [
    {
     "data": {
      "text/html": [
       "<div>\n",
       "<style scoped>\n",
       "    .dataframe tbody tr th:only-of-type {\n",
       "        vertical-align: middle;\n",
       "    }\n",
       "\n",
       "    .dataframe tbody tr th {\n",
       "        vertical-align: top;\n",
       "    }\n",
       "\n",
       "    .dataframe thead th {\n",
       "        text-align: right;\n",
       "    }\n",
       "</style>\n",
       "<table border=\"1\" class=\"dataframe\">\n",
       "  <thead>\n",
       "    <tr style=\"text-align: right;\">\n",
       "      <th></th>\n",
       "      <th>placeID</th>\n",
       "      <th>feature</th>\n",
       "    </tr>\n",
       "  </thead>\n",
       "  <tbody>\n",
       "    <tr>\n",
       "      <th>0</th>\n",
       "      <td>밀밭정원서울마포구마포대로16길13</td>\n",
       "      <td>칼국수</td>\n",
       "    </tr>\n",
       "    <tr>\n",
       "      <th>1</th>\n",
       "      <td>밀밭정원서울마포구마포대로16길13</td>\n",
       "      <td>만두</td>\n",
       "    </tr>\n",
       "    <tr>\n",
       "      <th>2</th>\n",
       "      <td>식스센스다이닝BAR서울동대문구왕산로2길9(2층방역룸예약)</td>\n",
       "      <td>바(BAR)</td>\n",
       "    </tr>\n",
       "    <tr>\n",
       "      <th>3</th>\n",
       "      <td>동북양꼬치서울영등포구디지털로37길26-1</td>\n",
       "      <td>양꼬치</td>\n",
       "    </tr>\n",
       "    <tr>\n",
       "      <th>4</th>\n",
       "      <td>농부쌈밥서울동작구사당로30길19</td>\n",
       "      <td>쌈밥</td>\n",
       "    </tr>\n",
       "  </tbody>\n",
       "</table>\n",
       "</div>"
      ],
      "text/plain": [
       "                           placeID feature\n",
       "0               밀밭정원서울마포구마포대로16길13     칼국수\n",
       "1               밀밭정원서울마포구마포대로16길13      만두\n",
       "2  식스센스다이닝BAR서울동대문구왕산로2길9(2층방역룸예약)  바(BAR)\n",
       "3           동북양꼬치서울영등포구디지털로37길26-1     양꼬치\n",
       "4                농부쌈밥서울동작구사당로30길19      쌈밥"
      ]
     },
     "execution_count": 9,
     "metadata": {},
     "output_type": "execute_result"
    }
   ],
   "source": [
    "p_df.head()"
   ]
  },
  {
   "cell_type": "markdown",
   "metadata": {},
   "source": [
    "#### Place Theme Keywords"
   ]
  },
  {
   "cell_type": "code",
   "execution_count": 10,
   "metadata": {},
   "outputs": [],
   "source": [
    "okt = Okt()"
   ]
  },
  {
   "cell_type": "code",
   "execution_count": 11,
   "metadata": {},
   "outputs": [],
   "source": [
    "def prep_nouns(word:str):\n",
    "    noun = okt.nouns(word)\n",
    "    if noun:\n",
    "        return noun[0]\n",
    "    else:\n",
    "        return \"\""
   ]
  },
  {
   "cell_type": "code",
   "execution_count": 186,
   "metadata": {},
   "outputs": [],
   "source": [
    "k_df = raw_df[['placeID', 'themeKeywords']]"
   ]
  },
  {
   "cell_type": "code",
   "execution_count": 187,
   "metadata": {},
   "outputs": [
    {
     "data": {
      "text/plain": [
       "1                                [술집, 세계맥주, 맥주집, 호프집, 생맥주]\n",
       "3        [인심좋은, 친절한, 친절하신, 친절하고, 쌈밥, 제육볶음, 오리로스, 부대찌개, ...\n",
       "6                                              [닭갈비, 닭갈비집]\n",
       "7                  [심플한, 돼지곱창, 시장, 소곱창, 곱창, 막창, 신선한, 숨어있는]\n",
       "8        [친절함, 친절하고, 화려한, 친절한, 시장, 소곱창, 양대창, 막창, 곱창, 나들...\n",
       "                               ...                        \n",
       "12646     [고급진, 깨끗한, 고급스러운, 안락한, 초밥, 젓갈, 튀김, 횟집, 참치회, 신선한]\n",
       "12651    [아늑한, 분위기좋은, 토속적인분위기, 김치찌개, 굴보쌈, 한정식, 곱창, 비빔밥,...\n",
       "12662                                [만두, 아이스크림, 설렁탕, 불고기]\n",
       "12664                         [닭갈비, 닭갈비집, 주먹밥, 막국수, 새로오픈한]\n",
       "12665    [고급진, 이국적, 고급스러운, 카레, 팟타이, 태국음식, 쌀국수, 누들, 나들이,...\n",
       "Name: themeKeywords, Length: 3499, dtype: object"
      ]
     },
     "execution_count": 187,
     "metadata": {},
     "output_type": "execute_result"
    }
   ],
   "source": [
    "theme_place = k_df[k_df.themeKeywords.str.len()!=0]['themeKeywords']\n",
    "theme_place"
   ]
  },
  {
   "cell_type": "code",
   "execution_count": 188,
   "metadata": {},
   "outputs": [
    {
     "name": "stderr",
     "output_type": "stream",
     "text": [
      "/tmp/ipykernel_9250/2134242679.py:1: SettingWithCopyWarning: \n",
      "A value is trying to be set on a copy of a slice from a DataFrame.\n",
      "Try using .loc[row_indexer,col_indexer] = value instead\n",
      "\n",
      "See the caveats in the documentation: https://pandas.pydata.org/pandas-docs/stable/user_guide/indexing.html#returning-a-view-versus-a-copy\n",
      "  k_df['prepThemeKeywords'] = k_df['themeKeywords'].apply(lambda x : list(map(lambda x : prep_nouns(x), x)))\n"
     ]
    }
   ],
   "source": [
    "k_df['prepThemeKeywords'] = k_df['themeKeywords'].apply(lambda x : list(map(lambda x : prep_nouns(x), x)))"
   ]
  },
  {
   "cell_type": "code",
   "execution_count": 189,
   "metadata": {},
   "outputs": [],
   "source": [
    "keyword_list = list(set(k_df[k_df.prepThemeKeywords.str.len()!=0]['prepThemeKeywords'].sum()))"
   ]
  },
  {
   "cell_type": "code",
   "execution_count": 190,
   "metadata": {},
   "outputs": [],
   "source": [
    "k_df = pd.DataFrame([\n",
    "    [id, keyword] for id, keywords in k_df[['placeID', 'prepThemeKeywords']].itertuples(index=False)\n",
    "    for keyword in keywords\n",
    "], columns=['placeID', 'prepThemeKeywords'])"
   ]
  },
  {
   "cell_type": "code",
   "execution_count": 195,
   "metadata": {},
   "outputs": [
    {
     "data": {
      "text/html": [
       "<div>\n",
       "<style scoped>\n",
       "    .dataframe tbody tr th:only-of-type {\n",
       "        vertical-align: middle;\n",
       "    }\n",
       "\n",
       "    .dataframe tbody tr th {\n",
       "        vertical-align: top;\n",
       "    }\n",
       "\n",
       "    .dataframe thead th {\n",
       "        text-align: right;\n",
       "    }\n",
       "</style>\n",
       "<table border=\"1\" class=\"dataframe\">\n",
       "  <thead>\n",
       "    <tr style=\"text-align: right;\">\n",
       "      <th></th>\n",
       "      <th>placeID</th>\n",
       "      <th>prepThemeKeywords</th>\n",
       "    </tr>\n",
       "  </thead>\n",
       "  <tbody>\n",
       "    <tr>\n",
       "      <th>0</th>\n",
       "      <td>식스센스다이닝BAR서울동대문구왕산로2길9(2층방역룸예약)</td>\n",
       "      <td>술집</td>\n",
       "    </tr>\n",
       "    <tr>\n",
       "      <th>1</th>\n",
       "      <td>식스센스다이닝BAR서울동대문구왕산로2길9(2층방역룸예약)</td>\n",
       "      <td>세계</td>\n",
       "    </tr>\n",
       "    <tr>\n",
       "      <th>2</th>\n",
       "      <td>식스센스다이닝BAR서울동대문구왕산로2길9(2층방역룸예약)</td>\n",
       "      <td>맥주</td>\n",
       "    </tr>\n",
       "    <tr>\n",
       "      <th>3</th>\n",
       "      <td>식스센스다이닝BAR서울동대문구왕산로2길9(2층방역룸예약)</td>\n",
       "      <td>호프</td>\n",
       "    </tr>\n",
       "    <tr>\n",
       "      <th>4</th>\n",
       "      <td>식스센스다이닝BAR서울동대문구왕산로2길9(2층방역룸예약)</td>\n",
       "      <td>생맥주</td>\n",
       "    </tr>\n",
       "  </tbody>\n",
       "</table>\n",
       "</div>"
      ],
      "text/plain": [
       "                           placeID prepThemeKeywords\n",
       "0  식스센스다이닝BAR서울동대문구왕산로2길9(2층방역룸예약)                술집\n",
       "1  식스센스다이닝BAR서울동대문구왕산로2길9(2층방역룸예약)                세계\n",
       "2  식스센스다이닝BAR서울동대문구왕산로2길9(2층방역룸예약)                맥주\n",
       "3  식스센스다이닝BAR서울동대문구왕산로2길9(2층방역룸예약)                호프\n",
       "4  식스센스다이닝BAR서울동대문구왕산로2길9(2층방역룸예약)               생맥주"
      ]
     },
     "execution_count": 195,
     "metadata": {},
     "output_type": "execute_result"
    }
   ],
   "source": [
    "k_df = k_df[k_df.prepThemeKeywords!=\"\"]\n",
    "k_df.head()"
   ]
  },
  {
   "cell_type": "markdown",
   "metadata": {},
   "source": [
    "#### Like"
   ]
  },
  {
   "cell_type": "code",
   "execution_count": 104,
   "metadata": {},
   "outputs": [
    {
     "data": {
      "text/html": [
       "<div>\n",
       "<style scoped>\n",
       "    .dataframe tbody tr th:only-of-type {\n",
       "        vertical-align: middle;\n",
       "    }\n",
       "\n",
       "    .dataframe tbody tr th {\n",
       "        vertical-align: top;\n",
       "    }\n",
       "\n",
       "    .dataframe thead th {\n",
       "        text-align: right;\n",
       "    }\n",
       "</style>\n",
       "<table border=\"1\" class=\"dataframe\">\n",
       "  <thead>\n",
       "    <tr style=\"text-align: right;\">\n",
       "      <th></th>\n",
       "      <th>음식이 맛있어요</th>\n",
       "      <th>재료가 신선해요</th>\n",
       "      <th>친절해요</th>\n",
       "      <th>특별한 메뉴가 있어요</th>\n",
       "      <th>단체모임 하기 좋아요</th>\n",
       "      <th>매장이 청결해요</th>\n",
       "      <th>혼밥하기 좋아요</th>\n",
       "      <th>양이 많아요</th>\n",
       "      <th>가성비가 좋아요</th>\n",
       "      <th>매장이 넓어요</th>\n",
       "      <th>...</th>\n",
       "      <th>건강한 맛이에요</th>\n",
       "      <th>아늑해요</th>\n",
       "      <th>컨셉이 독특해요</th>\n",
       "      <th>샐러드바가 잘 되어있어요</th>\n",
       "      <th>현지 맛에 가까워요</th>\n",
       "      <th>추천을 잘해줘요</th>\n",
       "      <th>라이브공연이 훌륭해요</th>\n",
       "      <th>파티하기 좋아요</th>\n",
       "      <th>반려동물과 가기 좋아요</th>\n",
       "      <th>잡내가 적어요</th>\n",
       "    </tr>\n",
       "  </thead>\n",
       "  <tbody>\n",
       "    <tr>\n",
       "      <th>0</th>\n",
       "      <td>26.0</td>\n",
       "      <td>11.0</td>\n",
       "      <td>10.0</td>\n",
       "      <td>7.0</td>\n",
       "      <td>4.0</td>\n",
       "      <td>3.0</td>\n",
       "      <td>2.0</td>\n",
       "      <td>2.0</td>\n",
       "      <td>2.0</td>\n",
       "      <td>2.0</td>\n",
       "      <td>...</td>\n",
       "      <td>NaN</td>\n",
       "      <td>NaN</td>\n",
       "      <td>NaN</td>\n",
       "      <td>NaN</td>\n",
       "      <td>NaN</td>\n",
       "      <td>NaN</td>\n",
       "      <td>NaN</td>\n",
       "      <td>NaN</td>\n",
       "      <td>NaN</td>\n",
       "      <td>NaN</td>\n",
       "    </tr>\n",
       "    <tr>\n",
       "      <th>1</th>\n",
       "      <td>59.0</td>\n",
       "      <td>2.0</td>\n",
       "      <td>62.0</td>\n",
       "      <td>22.0</td>\n",
       "      <td>18.0</td>\n",
       "      <td>40.0</td>\n",
       "      <td>NaN</td>\n",
       "      <td>2.0</td>\n",
       "      <td>12.0</td>\n",
       "      <td>1.0</td>\n",
       "      <td>...</td>\n",
       "      <td>NaN</td>\n",
       "      <td>NaN</td>\n",
       "      <td>NaN</td>\n",
       "      <td>NaN</td>\n",
       "      <td>NaN</td>\n",
       "      <td>NaN</td>\n",
       "      <td>NaN</td>\n",
       "      <td>NaN</td>\n",
       "      <td>NaN</td>\n",
       "      <td>NaN</td>\n",
       "    </tr>\n",
       "    <tr>\n",
       "      <th>2</th>\n",
       "      <td>NaN</td>\n",
       "      <td>NaN</td>\n",
       "      <td>NaN</td>\n",
       "      <td>NaN</td>\n",
       "      <td>NaN</td>\n",
       "      <td>NaN</td>\n",
       "      <td>NaN</td>\n",
       "      <td>NaN</td>\n",
       "      <td>NaN</td>\n",
       "      <td>NaN</td>\n",
       "      <td>...</td>\n",
       "      <td>NaN</td>\n",
       "      <td>NaN</td>\n",
       "      <td>NaN</td>\n",
       "      <td>NaN</td>\n",
       "      <td>NaN</td>\n",
       "      <td>NaN</td>\n",
       "      <td>NaN</td>\n",
       "      <td>NaN</td>\n",
       "      <td>NaN</td>\n",
       "      <td>NaN</td>\n",
       "    </tr>\n",
       "    <tr>\n",
       "      <th>3</th>\n",
       "      <td>73.0</td>\n",
       "      <td>45.0</td>\n",
       "      <td>42.0</td>\n",
       "      <td>3.0</td>\n",
       "      <td>NaN</td>\n",
       "      <td>10.0</td>\n",
       "      <td>10.0</td>\n",
       "      <td>25.0</td>\n",
       "      <td>57.0</td>\n",
       "      <td>4.0</td>\n",
       "      <td>...</td>\n",
       "      <td>NaN</td>\n",
       "      <td>NaN</td>\n",
       "      <td>NaN</td>\n",
       "      <td>NaN</td>\n",
       "      <td>NaN</td>\n",
       "      <td>NaN</td>\n",
       "      <td>NaN</td>\n",
       "      <td>NaN</td>\n",
       "      <td>NaN</td>\n",
       "      <td>NaN</td>\n",
       "    </tr>\n",
       "    <tr>\n",
       "      <th>4</th>\n",
       "      <td>18.0</td>\n",
       "      <td>8.0</td>\n",
       "      <td>17.0</td>\n",
       "      <td>2.0</td>\n",
       "      <td>1.0</td>\n",
       "      <td>6.0</td>\n",
       "      <td>25.0</td>\n",
       "      <td>6.0</td>\n",
       "      <td>18.0</td>\n",
       "      <td>2.0</td>\n",
       "      <td>...</td>\n",
       "      <td>NaN</td>\n",
       "      <td>NaN</td>\n",
       "      <td>NaN</td>\n",
       "      <td>NaN</td>\n",
       "      <td>NaN</td>\n",
       "      <td>NaN</td>\n",
       "      <td>NaN</td>\n",
       "      <td>NaN</td>\n",
       "      <td>NaN</td>\n",
       "      <td>NaN</td>\n",
       "    </tr>\n",
       "  </tbody>\n",
       "</table>\n",
       "<p>5 rows × 56 columns</p>\n",
       "</div>"
      ],
      "text/plain": [
       "   음식이 맛있어요  재료가 신선해요  친절해요  특별한 메뉴가 있어요  단체모임 하기 좋아요  매장이 청결해요  혼밥하기 좋아요  \\\n",
       "0      26.0      11.0  10.0          7.0          4.0       3.0       2.0   \n",
       "1      59.0       2.0  62.0         22.0         18.0      40.0       NaN   \n",
       "2       NaN       NaN   NaN          NaN          NaN       NaN       NaN   \n",
       "3      73.0      45.0  42.0          3.0          NaN      10.0      10.0   \n",
       "4      18.0       8.0  17.0          2.0          1.0       6.0      25.0   \n",
       "\n",
       "   양이 많아요  가성비가 좋아요  매장이 넓어요  ...  건강한 맛이에요  아늑해요  컨셉이 독특해요  샐러드바가 잘 되어있어요  \\\n",
       "0     2.0       2.0      2.0  ...       NaN   NaN       NaN            NaN   \n",
       "1     2.0      12.0      1.0  ...       NaN   NaN       NaN            NaN   \n",
       "2     NaN       NaN      NaN  ...       NaN   NaN       NaN            NaN   \n",
       "3    25.0      57.0      4.0  ...       NaN   NaN       NaN            NaN   \n",
       "4     6.0      18.0      2.0  ...       NaN   NaN       NaN            NaN   \n",
       "\n",
       "   현지 맛에 가까워요  추천을 잘해줘요  라이브공연이 훌륭해요  파티하기 좋아요  반려동물과 가기 좋아요  잡내가 적어요  \n",
       "0         NaN       NaN          NaN       NaN           NaN      NaN  \n",
       "1         NaN       NaN          NaN       NaN           NaN      NaN  \n",
       "2         NaN       NaN          NaN       NaN           NaN      NaN  \n",
       "3         NaN       NaN          NaN       NaN           NaN      NaN  \n",
       "4         NaN       NaN          NaN       NaN           NaN      NaN  \n",
       "\n",
       "[5 rows x 56 columns]"
      ]
     },
     "execution_count": 104,
     "metadata": {},
     "output_type": "execute_result"
    }
   ],
   "source": [
    "l_df = pd.DataFrame.from_records(raw_df['like'])\n",
    "l_df.head()"
   ]
  },
  {
   "cell_type": "code",
   "execution_count": 105,
   "metadata": {},
   "outputs": [],
   "source": [
    "frequency = np.sum(~l_df.isna(), axis=0)\n",
    "cond1 = frequency > 1\n",
    "cond2 = frequency < 9000\n",
    "like_cols = sorted(frequency[np.where(cond1&cond2)[0]].index.values)"
   ]
  },
  {
   "cell_type": "code",
   "execution_count": 107,
   "metadata": {},
   "outputs": [],
   "source": [
    "l_df = l_df[like_cols].fillna(0)"
   ]
  },
  {
   "cell_type": "code",
   "execution_count": 108,
   "metadata": {},
   "outputs": [
    {
     "name": "stderr",
     "output_type": "stream",
     "text": [
      "100%|██████████| 12677/12677 [00:00<00:00, 14559.79it/s]\n"
     ]
    }
   ],
   "source": [
    "total_record = []\n",
    "for index in tqdm(l_df.index.values):\n",
    "    topk = np.argsort(l_df.values[index])[::-1]\n",
    "\n",
    "    cnt = 0\n",
    "    for t in topk:\n",
    "        if l_df.values[index, t] == 0 or cnt==5:\n",
    "            break\n",
    "        else :\n",
    "            total_record.append((raw_df['placeID'][index], l_df.columns[t]))\n",
    "            cnt += 1\n",
    "\n",
    "l_df = pd.DataFrame.from_records(total_record)\n",
    "l_df.columns = ['placeID', 'like']"
   ]
  },
  {
   "cell_type": "code",
   "execution_count": 109,
   "metadata": {},
   "outputs": [
    {
     "data": {
      "text/html": [
       "<div>\n",
       "<style scoped>\n",
       "    .dataframe tbody tr th:only-of-type {\n",
       "        vertical-align: middle;\n",
       "    }\n",
       "\n",
       "    .dataframe tbody tr th {\n",
       "        vertical-align: top;\n",
       "    }\n",
       "\n",
       "    .dataframe thead th {\n",
       "        text-align: right;\n",
       "    }\n",
       "</style>\n",
       "<table border=\"1\" class=\"dataframe\">\n",
       "  <thead>\n",
       "    <tr style=\"text-align: right;\">\n",
       "      <th></th>\n",
       "      <th>placeID</th>\n",
       "      <th>like</th>\n",
       "    </tr>\n",
       "  </thead>\n",
       "  <tbody>\n",
       "    <tr>\n",
       "      <th>0</th>\n",
       "      <td>밀밭정원서울마포구마포대로16길13</td>\n",
       "      <td>단체모임 하기 좋아요</td>\n",
       "    </tr>\n",
       "    <tr>\n",
       "      <th>1</th>\n",
       "      <td>밀밭정원서울마포구마포대로16길13</td>\n",
       "      <td>혼밥하기 좋아요</td>\n",
       "    </tr>\n",
       "    <tr>\n",
       "      <th>2</th>\n",
       "      <td>밀밭정원서울마포구마포대로16길13</td>\n",
       "      <td>뷰가 좋아요</td>\n",
       "    </tr>\n",
       "    <tr>\n",
       "      <th>3</th>\n",
       "      <td>밀밭정원서울마포구마포대로16길13</td>\n",
       "      <td>매장이 넓어요</td>\n",
       "    </tr>\n",
       "    <tr>\n",
       "      <th>4</th>\n",
       "      <td>밀밭정원서울마포구마포대로16길13</td>\n",
       "      <td>화장실이 깨끗해요</td>\n",
       "    </tr>\n",
       "    <tr>\n",
       "      <th>5</th>\n",
       "      <td>식스센스다이닝BAR서울동대문구왕산로2길9(2층방역룸예약)</td>\n",
       "      <td>인테리어가 멋져요</td>\n",
       "    </tr>\n",
       "    <tr>\n",
       "      <th>6</th>\n",
       "      <td>식스센스다이닝BAR서울동대문구왕산로2길9(2층방역룸예약)</td>\n",
       "      <td>술이 다양해요</td>\n",
       "    </tr>\n",
       "    <tr>\n",
       "      <th>7</th>\n",
       "      <td>식스센스다이닝BAR서울동대문구왕산로2길9(2층방역룸예약)</td>\n",
       "      <td>오래 머무르기 좋아요</td>\n",
       "    </tr>\n",
       "    <tr>\n",
       "      <th>8</th>\n",
       "      <td>식스센스다이닝BAR서울동대문구왕산로2길9(2층방역룸예약)</td>\n",
       "      <td>대화하기 좋아요</td>\n",
       "    </tr>\n",
       "    <tr>\n",
       "      <th>9</th>\n",
       "      <td>식스센스다이닝BAR서울동대문구왕산로2길9(2층방역룸예약)</td>\n",
       "      <td>화장실이 깨끗해요</td>\n",
       "    </tr>\n",
       "  </tbody>\n",
       "</table>\n",
       "</div>"
      ],
      "text/plain": [
       "                           placeID         like\n",
       "0               밀밭정원서울마포구마포대로16길13  단체모임 하기 좋아요\n",
       "1               밀밭정원서울마포구마포대로16길13     혼밥하기 좋아요\n",
       "2               밀밭정원서울마포구마포대로16길13       뷰가 좋아요\n",
       "3               밀밭정원서울마포구마포대로16길13      매장이 넓어요\n",
       "4               밀밭정원서울마포구마포대로16길13    화장실이 깨끗해요\n",
       "5  식스센스다이닝BAR서울동대문구왕산로2길9(2층방역룸예약)    인테리어가 멋져요\n",
       "6  식스센스다이닝BAR서울동대문구왕산로2길9(2층방역룸예약)      술이 다양해요\n",
       "7  식스센스다이닝BAR서울동대문구왕산로2길9(2층방역룸예약)  오래 머무르기 좋아요\n",
       "8  식스센스다이닝BAR서울동대문구왕산로2길9(2층방역룸예약)     대화하기 좋아요\n",
       "9  식스센스다이닝BAR서울동대문구왕산로2길9(2층방역룸예약)    화장실이 깨끗해요"
      ]
     },
     "execution_count": 109,
     "metadata": {},
     "output_type": "execute_result"
    }
   ],
   "source": [
    "l_df.head(10)"
   ]
  },
  {
   "cell_type": "markdown",
   "metadata": {},
   "source": [
    "#### Menu"
   ]
  },
  {
   "cell_type": "code",
   "execution_count": 175,
   "metadata": {},
   "outputs": [
    {
     "data": {
      "text/html": [
       "<div>\n",
       "<style scoped>\n",
       "    .dataframe tbody tr th:only-of-type {\n",
       "        vertical-align: middle;\n",
       "    }\n",
       "\n",
       "    .dataframe tbody tr th {\n",
       "        vertical-align: top;\n",
       "    }\n",
       "\n",
       "    .dataframe thead th {\n",
       "        text-align: right;\n",
       "    }\n",
       "</style>\n",
       "<table border=\"1\" class=\"dataframe\">\n",
       "  <thead>\n",
       "    <tr style=\"text-align: right;\">\n",
       "      <th></th>\n",
       "      <th>placeID</th>\n",
       "      <th>menulabel</th>\n",
       "    </tr>\n",
       "  </thead>\n",
       "  <tbody>\n",
       "    <tr>\n",
       "      <th>0</th>\n",
       "      <td>밀밭정원서울마포구마포대로16길13</td>\n",
       "      <td>30000이하</td>\n",
       "    </tr>\n",
       "    <tr>\n",
       "      <th>1</th>\n",
       "      <td>식스센스다이닝BAR서울동대문구왕산로2길9(2층방역룸예약)</td>\n",
       "      <td>30000이상</td>\n",
       "    </tr>\n",
       "    <tr>\n",
       "      <th>2</th>\n",
       "      <td>동북양꼬치서울영등포구디지털로37길26-1</td>\n",
       "      <td>30000이하</td>\n",
       "    </tr>\n",
       "    <tr>\n",
       "      <th>3</th>\n",
       "      <td>농부쌈밥서울동작구사당로30길19</td>\n",
       "      <td>10000이하</td>\n",
       "    </tr>\n",
       "    <tr>\n",
       "      <th>4</th>\n",
       "      <td>홍당무김밥서울영등포구문래로180영등포센트럴푸르지오시티</td>\n",
       "      <td>10000이하</td>\n",
       "    </tr>\n",
       "  </tbody>\n",
       "</table>\n",
       "</div>"
      ],
      "text/plain": [
       "                           placeID menulabel\n",
       "0               밀밭정원서울마포구마포대로16길13   30000이하\n",
       "1  식스센스다이닝BAR서울동대문구왕산로2길9(2층방역룸예약)   30000이상\n",
       "2           동북양꼬치서울영등포구디지털로37길26-1   30000이하\n",
       "3                농부쌈밥서울동작구사당로30길19   10000이하\n",
       "4    홍당무김밥서울영등포구문래로180영등포센트럴푸르지오시티   10000이하"
      ]
     },
     "execution_count": 175,
     "metadata": {},
     "output_type": "execute_result"
    }
   ],
   "source": [
    "m_df = raw_df[['placeID', 'menulabel']]\n",
    "m_df = m_df.dropna()\n",
    "m_df.head()"
   ]
  },
  {
   "cell_type": "markdown",
   "metadata": {},
   "source": [
    "#### Age"
   ]
  },
  {
   "cell_type": "code",
   "execution_count": 116,
   "metadata": {},
   "outputs": [
    {
     "data": {
      "text/html": [
       "<div>\n",
       "<style scoped>\n",
       "    .dataframe tbody tr th:only-of-type {\n",
       "        vertical-align: middle;\n",
       "    }\n",
       "\n",
       "    .dataframe tbody tr th {\n",
       "        vertical-align: top;\n",
       "    }\n",
       "\n",
       "    .dataframe thead th {\n",
       "        text-align: right;\n",
       "    }\n",
       "</style>\n",
       "<table border=\"1\" class=\"dataframe\">\n",
       "  <thead>\n",
       "    <tr style=\"text-align: right;\">\n",
       "      <th></th>\n",
       "      <th>placeID</th>\n",
       "      <th>ageLabel</th>\n",
       "    </tr>\n",
       "  </thead>\n",
       "  <tbody>\n",
       "    <tr>\n",
       "      <th>0</th>\n",
       "      <td>밀밭정원서울마포구마포대로16길13</td>\n",
       "      <td>[50대, 40대, 60대]</td>\n",
       "    </tr>\n",
       "    <tr>\n",
       "      <th>1</th>\n",
       "      <td>식스센스다이닝BAR서울동대문구왕산로2길9(2층방역룸예약)</td>\n",
       "      <td>[20대, 30대, 40대]</td>\n",
       "    </tr>\n",
       "    <tr>\n",
       "      <th>2</th>\n",
       "      <td>동북양꼬치서울영등포구디지털로37길26-1</td>\n",
       "      <td>[]</td>\n",
       "    </tr>\n",
       "    <tr>\n",
       "      <th>3</th>\n",
       "      <td>농부쌈밥서울동작구사당로30길19</td>\n",
       "      <td>[20대, 30대, 40대]</td>\n",
       "    </tr>\n",
       "    <tr>\n",
       "      <th>4</th>\n",
       "      <td>홍당무김밥서울영등포구문래로180영등포센트럴푸르지오시티</td>\n",
       "      <td>[]</td>\n",
       "    </tr>\n",
       "  </tbody>\n",
       "</table>\n",
       "</div>"
      ],
      "text/plain": [
       "                           placeID         ageLabel\n",
       "0               밀밭정원서울마포구마포대로16길13  [50대, 40대, 60대]\n",
       "1  식스센스다이닝BAR서울동대문구왕산로2길9(2층방역룸예약)  [20대, 30대, 40대]\n",
       "2           동북양꼬치서울영등포구디지털로37길26-1               []\n",
       "3                농부쌈밥서울동작구사당로30길19  [20대, 30대, 40대]\n",
       "4    홍당무김밥서울영등포구문래로180영등포센트럴푸르지오시티               []"
      ]
     },
     "execution_count": 116,
     "metadata": {},
     "output_type": "execute_result"
    }
   ],
   "source": [
    "a_df = raw_df[['placeID', 'ageLabel']]\n",
    "a_df.head()"
   ]
  },
  {
   "cell_type": "code",
   "execution_count": 118,
   "metadata": {},
   "outputs": [],
   "source": [
    "a_df = pd.DataFrame([\n",
    "    [id, age] for id, ages in a_df.itertuples(index=False)\n",
    "    for age in ages\n",
    "], columns=a_df.columns)"
   ]
  },
  {
   "cell_type": "code",
   "execution_count": 119,
   "metadata": {},
   "outputs": [
    {
     "data": {
      "text/html": [
       "<div>\n",
       "<style scoped>\n",
       "    .dataframe tbody tr th:only-of-type {\n",
       "        vertical-align: middle;\n",
       "    }\n",
       "\n",
       "    .dataframe tbody tr th {\n",
       "        vertical-align: top;\n",
       "    }\n",
       "\n",
       "    .dataframe thead th {\n",
       "        text-align: right;\n",
       "    }\n",
       "</style>\n",
       "<table border=\"1\" class=\"dataframe\">\n",
       "  <thead>\n",
       "    <tr style=\"text-align: right;\">\n",
       "      <th></th>\n",
       "      <th>placeID</th>\n",
       "      <th>ageLabel</th>\n",
       "    </tr>\n",
       "  </thead>\n",
       "  <tbody>\n",
       "    <tr>\n",
       "      <th>0</th>\n",
       "      <td>밀밭정원서울마포구마포대로16길13</td>\n",
       "      <td>50대</td>\n",
       "    </tr>\n",
       "    <tr>\n",
       "      <th>1</th>\n",
       "      <td>밀밭정원서울마포구마포대로16길13</td>\n",
       "      <td>40대</td>\n",
       "    </tr>\n",
       "    <tr>\n",
       "      <th>2</th>\n",
       "      <td>밀밭정원서울마포구마포대로16길13</td>\n",
       "      <td>60대</td>\n",
       "    </tr>\n",
       "    <tr>\n",
       "      <th>3</th>\n",
       "      <td>식스센스다이닝BAR서울동대문구왕산로2길9(2층방역룸예약)</td>\n",
       "      <td>20대</td>\n",
       "    </tr>\n",
       "    <tr>\n",
       "      <th>4</th>\n",
       "      <td>식스센스다이닝BAR서울동대문구왕산로2길9(2층방역룸예약)</td>\n",
       "      <td>30대</td>\n",
       "    </tr>\n",
       "  </tbody>\n",
       "</table>\n",
       "</div>"
      ],
      "text/plain": [
       "                           placeID ageLabel\n",
       "0               밀밭정원서울마포구마포대로16길13      50대\n",
       "1               밀밭정원서울마포구마포대로16길13      40대\n",
       "2               밀밭정원서울마포구마포대로16길13      60대\n",
       "3  식스센스다이닝BAR서울동대문구왕산로2길9(2층방역룸예약)      20대\n",
       "4  식스센스다이닝BAR서울동대문구왕산로2길9(2층방역룸예약)      30대"
      ]
     },
     "execution_count": 119,
     "metadata": {},
     "output_type": "execute_result"
    }
   ],
   "source": [
    "a_df.head()"
   ]
  },
  {
   "cell_type": "markdown",
   "metadata": {},
   "source": [
    "#### Rating"
   ]
  },
  {
   "cell_type": "code",
   "execution_count": 120,
   "metadata": {},
   "outputs": [
    {
     "data": {
      "text/html": [
       "<div>\n",
       "<style scoped>\n",
       "    .dataframe tbody tr th:only-of-type {\n",
       "        vertical-align: middle;\n",
       "    }\n",
       "\n",
       "    .dataframe tbody tr th {\n",
       "        vertical-align: top;\n",
       "    }\n",
       "\n",
       "    .dataframe thead th {\n",
       "        text-align: right;\n",
       "    }\n",
       "</style>\n",
       "<table border=\"1\" class=\"dataframe\">\n",
       "  <thead>\n",
       "    <tr style=\"text-align: right;\">\n",
       "      <th></th>\n",
       "      <th>placeID</th>\n",
       "      <th>ratingLabel</th>\n",
       "    </tr>\n",
       "  </thead>\n",
       "  <tbody>\n",
       "    <tr>\n",
       "      <th>0</th>\n",
       "      <td>밀밭정원서울마포구마포대로16길13</td>\n",
       "      <td>4.5이하</td>\n",
       "    </tr>\n",
       "    <tr>\n",
       "      <th>1</th>\n",
       "      <td>식스센스다이닝BAR서울동대문구왕산로2길9(2층방역룸예약)</td>\n",
       "      <td>4.5이상</td>\n",
       "    </tr>\n",
       "    <tr>\n",
       "      <th>2</th>\n",
       "      <td>동북양꼬치서울영등포구디지털로37길26-1</td>\n",
       "      <td>4.5이하</td>\n",
       "    </tr>\n",
       "    <tr>\n",
       "      <th>3</th>\n",
       "      <td>농부쌈밥서울동작구사당로30길19</td>\n",
       "      <td>4.5이하</td>\n",
       "    </tr>\n",
       "    <tr>\n",
       "      <th>4</th>\n",
       "      <td>홍당무김밥서울영등포구문래로180영등포센트럴푸르지오시티</td>\n",
       "      <td>4.5이하</td>\n",
       "    </tr>\n",
       "  </tbody>\n",
       "</table>\n",
       "</div>"
      ],
      "text/plain": [
       "                           placeID ratingLabel\n",
       "0               밀밭정원서울마포구마포대로16길13       4.5이하\n",
       "1  식스센스다이닝BAR서울동대문구왕산로2길9(2층방역룸예약)       4.5이상\n",
       "2           동북양꼬치서울영등포구디지털로37길26-1       4.5이하\n",
       "3                농부쌈밥서울동작구사당로30길19       4.5이하\n",
       "4    홍당무김밥서울영등포구문래로180영등포센트럴푸르지오시티       4.5이하"
      ]
     },
     "execution_count": 120,
     "metadata": {},
     "output_type": "execute_result"
    }
   ],
   "source": [
    "r_df = raw_df[['placeID', 'ratingLabel']]\n",
    "r_df.head()"
   ]
  },
  {
   "cell_type": "markdown",
   "metadata": {},
   "source": [
    "#### Visit"
   ]
  },
  {
   "cell_type": "code",
   "execution_count": 121,
   "metadata": {},
   "outputs": [
    {
     "data": {
      "text/html": [
       "<div>\n",
       "<style scoped>\n",
       "    .dataframe tbody tr th:only-of-type {\n",
       "        vertical-align: middle;\n",
       "    }\n",
       "\n",
       "    .dataframe tbody tr th {\n",
       "        vertical-align: top;\n",
       "    }\n",
       "\n",
       "    .dataframe thead th {\n",
       "        text-align: right;\n",
       "    }\n",
       "</style>\n",
       "<table border=\"1\" class=\"dataframe\">\n",
       "  <thead>\n",
       "    <tr style=\"text-align: right;\">\n",
       "      <th></th>\n",
       "      <th>placeID</th>\n",
       "      <th>visitLabel</th>\n",
       "    </tr>\n",
       "  </thead>\n",
       "  <tbody>\n",
       "    <tr>\n",
       "      <th>0</th>\n",
       "      <td>밀밭정원서울마포구마포대로16길13</td>\n",
       "      <td>visitQ2</td>\n",
       "    </tr>\n",
       "    <tr>\n",
       "      <th>1</th>\n",
       "      <td>식스센스다이닝BAR서울동대문구왕산로2길9(2층방역룸예약)</td>\n",
       "      <td>visitQ3</td>\n",
       "    </tr>\n",
       "    <tr>\n",
       "      <th>2</th>\n",
       "      <td>동북양꼬치서울영등포구디지털로37길26-1</td>\n",
       "      <td>visitQ1</td>\n",
       "    </tr>\n",
       "    <tr>\n",
       "      <th>3</th>\n",
       "      <td>농부쌈밥서울동작구사당로30길19</td>\n",
       "      <td>visitQ4</td>\n",
       "    </tr>\n",
       "    <tr>\n",
       "      <th>4</th>\n",
       "      <td>홍당무김밥서울영등포구문래로180영등포센트럴푸르지오시티</td>\n",
       "      <td>visitQ3</td>\n",
       "    </tr>\n",
       "  </tbody>\n",
       "</table>\n",
       "</div>"
      ],
      "text/plain": [
       "                           placeID visitLabel\n",
       "0               밀밭정원서울마포구마포대로16길13    visitQ2\n",
       "1  식스센스다이닝BAR서울동대문구왕산로2길9(2층방역룸예약)    visitQ3\n",
       "2           동북양꼬치서울영등포구디지털로37길26-1    visitQ1\n",
       "3                농부쌈밥서울동작구사당로30길19    visitQ4\n",
       "4    홍당무김밥서울영등포구문래로180영등포센트럴푸르지오시티    visitQ3"
      ]
     },
     "execution_count": 121,
     "metadata": {},
     "output_type": "execute_result"
    }
   ],
   "source": [
    "v_df = raw_df[['placeID', 'visitLabel']]\n",
    "v_df.head()"
   ]
  },
  {
   "cell_type": "markdown",
   "metadata": {},
   "source": [
    "#### Blog"
   ]
  },
  {
   "cell_type": "code",
   "execution_count": 123,
   "metadata": {},
   "outputs": [
    {
     "data": {
      "text/html": [
       "<div>\n",
       "<style scoped>\n",
       "    .dataframe tbody tr th:only-of-type {\n",
       "        vertical-align: middle;\n",
       "    }\n",
       "\n",
       "    .dataframe tbody tr th {\n",
       "        vertical-align: top;\n",
       "    }\n",
       "\n",
       "    .dataframe thead th {\n",
       "        text-align: right;\n",
       "    }\n",
       "</style>\n",
       "<table border=\"1\" class=\"dataframe\">\n",
       "  <thead>\n",
       "    <tr style=\"text-align: right;\">\n",
       "      <th></th>\n",
       "      <th>placeID</th>\n",
       "      <th>blogLabel</th>\n",
       "    </tr>\n",
       "  </thead>\n",
       "  <tbody>\n",
       "    <tr>\n",
       "      <th>0</th>\n",
       "      <td>밀밭정원서울마포구마포대로16길13</td>\n",
       "      <td>blogQ2</td>\n",
       "    </tr>\n",
       "    <tr>\n",
       "      <th>1</th>\n",
       "      <td>식스센스다이닝BAR서울동대문구왕산로2길9(2층방역룸예약)</td>\n",
       "      <td>blogQ4</td>\n",
       "    </tr>\n",
       "    <tr>\n",
       "      <th>2</th>\n",
       "      <td>동북양꼬치서울영등포구디지털로37길26-1</td>\n",
       "      <td>blogQ1</td>\n",
       "    </tr>\n",
       "    <tr>\n",
       "      <th>3</th>\n",
       "      <td>농부쌈밥서울동작구사당로30길19</td>\n",
       "      <td>blogQ4</td>\n",
       "    </tr>\n",
       "    <tr>\n",
       "      <th>4</th>\n",
       "      <td>홍당무김밥서울영등포구문래로180영등포센트럴푸르지오시티</td>\n",
       "      <td>blogQ1</td>\n",
       "    </tr>\n",
       "  </tbody>\n",
       "</table>\n",
       "</div>"
      ],
      "text/plain": [
       "                           placeID blogLabel\n",
       "0               밀밭정원서울마포구마포대로16길13    blogQ2\n",
       "1  식스센스다이닝BAR서울동대문구왕산로2길9(2층방역룸예약)    blogQ4\n",
       "2           동북양꼬치서울영등포구디지털로37길26-1    blogQ1\n",
       "3                농부쌈밥서울동작구사당로30길19    blogQ4\n",
       "4    홍당무김밥서울영등포구문래로180영등포센트럴푸르지오시티    blogQ1"
      ]
     },
     "execution_count": 123,
     "metadata": {},
     "output_type": "execute_result"
    }
   ],
   "source": [
    "b_df = raw_df[['placeID', 'blogLabel']]\n",
    "b_df.head()"
   ]
  },
  {
   "cell_type": "markdown",
   "metadata": {},
   "source": [
    "## Reamp IDs"
   ]
  },
  {
   "cell_type": "code",
   "execution_count": 124,
   "metadata": {},
   "outputs": [],
   "source": [
    "def remap_id(id_lst) :\n",
    "    id_lst.sort()\n",
    "    id_to_idx, idx_to_id = dict(), dict()\n",
    "    for index, value in enumerate(id_lst) :\n",
    "        id_to_idx[value] = index\n",
    "        idx_to_id[index] = value\n",
    "    return id_to_idx, idx_to_id "
   ]
  },
  {
   "cell_type": "markdown",
   "metadata": {},
   "source": [
    "#### All Features"
   ]
  },
  {
   "cell_type": "code",
   "execution_count": 196,
   "metadata": {},
   "outputs": [
    {
     "name": "stderr",
     "output_type": "stream",
     "text": [
      "/tmp/ipykernel_9250/1373499250.py:1: SettingWithCopyWarning: \n",
      "A value is trying to be set on a copy of a slice from a DataFrame\n",
      "\n",
      "See the caveats in the documentation: https://pandas.pydata.org/pandas-docs/stable/user_guide/indexing.html#returning-a-view-versus-a-copy\n",
      "  k_df.rename(columns={'prepThemeKeywords':'feature'}, inplace=True)\n",
      "/tmp/ipykernel_9250/1373499250.py:5: SettingWithCopyWarning: \n",
      "A value is trying to be set on a copy of a slice from a DataFrame\n",
      "\n",
      "See the caveats in the documentation: https://pandas.pydata.org/pandas-docs/stable/user_guide/indexing.html#returning-a-view-versus-a-copy\n",
      "  r_df.rename(columns={'ratingLabel':'feature'}, inplace=True)\n",
      "/tmp/ipykernel_9250/1373499250.py:6: SettingWithCopyWarning: \n",
      "A value is trying to be set on a copy of a slice from a DataFrame\n",
      "\n",
      "See the caveats in the documentation: https://pandas.pydata.org/pandas-docs/stable/user_guide/indexing.html#returning-a-view-versus-a-copy\n",
      "  v_df.rename(columns={'visitLabel':'feature'}, inplace=True)\n",
      "/tmp/ipykernel_9250/1373499250.py:7: SettingWithCopyWarning: \n",
      "A value is trying to be set on a copy of a slice from a DataFrame\n",
      "\n",
      "See the caveats in the documentation: https://pandas.pydata.org/pandas-docs/stable/user_guide/indexing.html#returning-a-view-versus-a-copy\n",
      "  b_df.rename(columns={'blogLabel':'feature'}, inplace=True)\n"
     ]
    }
   ],
   "source": [
    "k_df.rename(columns={'prepThemeKeywords':'feature'}, inplace=True)\n",
    "l_df.rename(columns={'like':'feature'}, inplace=True)\n",
    "m_df.rename(columns={'menulabel':'feature'}, inplace=True)\n",
    "a_df.rename(columns={'ageLabel':'feature'}, inplace=True)\n",
    "r_df.rename(columns={'ratingLabel':'feature'}, inplace=True)\n",
    "v_df.rename(columns={'visitLabel':'feature'}, inplace=True)\n",
    "b_df.rename(columns={'blogLabel':'feature'}, inplace=True)"
   ]
  },
  {
   "cell_type": "code",
   "execution_count": 197,
   "metadata": {},
   "outputs": [
    {
     "data": {
      "text/html": [
       "<div>\n",
       "<style scoped>\n",
       "    .dataframe tbody tr th:only-of-type {\n",
       "        vertical-align: middle;\n",
       "    }\n",
       "\n",
       "    .dataframe tbody tr th {\n",
       "        vertical-align: top;\n",
       "    }\n",
       "\n",
       "    .dataframe thead th {\n",
       "        text-align: right;\n",
       "    }\n",
       "</style>\n",
       "<table border=\"1\" class=\"dataframe\">\n",
       "  <thead>\n",
       "    <tr style=\"text-align: right;\">\n",
       "      <th></th>\n",
       "      <th>placeID</th>\n",
       "      <th>feature</th>\n",
       "    </tr>\n",
       "  </thead>\n",
       "  <tbody>\n",
       "    <tr>\n",
       "      <th>0</th>\n",
       "      <td>밀밭정원서울마포구마포대로16길13</td>\n",
       "      <td>칼국수</td>\n",
       "    </tr>\n",
       "    <tr>\n",
       "      <th>1</th>\n",
       "      <td>밀밭정원서울마포구마포대로16길13</td>\n",
       "      <td>만두</td>\n",
       "    </tr>\n",
       "    <tr>\n",
       "      <th>2</th>\n",
       "      <td>식스센스다이닝BAR서울동대문구왕산로2길9(2층방역룸예약)</td>\n",
       "      <td>바(BAR)</td>\n",
       "    </tr>\n",
       "    <tr>\n",
       "      <th>3</th>\n",
       "      <td>동북양꼬치서울영등포구디지털로37길26-1</td>\n",
       "      <td>양꼬치</td>\n",
       "    </tr>\n",
       "    <tr>\n",
       "      <th>4</th>\n",
       "      <td>농부쌈밥서울동작구사당로30길19</td>\n",
       "      <td>쌈밥</td>\n",
       "    </tr>\n",
       "  </tbody>\n",
       "</table>\n",
       "</div>"
      ],
      "text/plain": [
       "                           placeID feature\n",
       "0               밀밭정원서울마포구마포대로16길13     칼국수\n",
       "1               밀밭정원서울마포구마포대로16길13      만두\n",
       "2  식스센스다이닝BAR서울동대문구왕산로2길9(2층방역룸예약)  바(BAR)\n",
       "3           동북양꼬치서울영등포구디지털로37길26-1     양꼬치\n",
       "4                농부쌈밥서울동작구사당로30길19      쌈밥"
      ]
     },
     "execution_count": 197,
     "metadata": {},
     "output_type": "execute_result"
    }
   ],
   "source": [
    "all_df = pd.concat([p_df, k_df, l_df, m_df, a_df, r_df, v_df, b_df], axis=0)\n",
    "all_df.head()"
   ]
  },
  {
   "cell_type": "code",
   "execution_count": 198,
   "metadata": {},
   "outputs": [],
   "source": [
    "place_id2idx, place_idx2id = remap_id(all_df['placeID'].unique())\n",
    "feature_id2idx, feature_idx2id = remap_id(all_df['feature'].unique())"
   ]
  },
  {
   "cell_type": "code",
   "execution_count": 204,
   "metadata": {},
   "outputs": [],
   "source": [
    "all_df['placeID'] = all_df['placeID'].apply(lambda x : place_id2idx[x])\n",
    "all_df['feature'] = all_df['feature'].apply(lambda x: feature_id2idx[x])"
   ]
  },
  {
   "cell_type": "markdown",
   "metadata": {},
   "source": [
    "## Create Heterogeneous Graph"
   ]
  },
  {
   "cell_type": "code",
   "execution_count": 199,
   "metadata": {},
   "outputs": [],
   "source": [
    "# all features\n",
    "def consrtruct_graph(df) :\n",
    "    hg = dgl.heterograph({\n",
    "            ('place', 'pf', 'feature') : (list(df['placeID']), list(df['feature'])),\n",
    "            ('feature', 'fp', 'place') : (list(df['feature']), list(df['placeID'])),\n",
    "            })\n",
    "    return hg"
   ]
  },
  {
   "cell_type": "code",
   "execution_count": 206,
   "metadata": {},
   "outputs": [
    {
     "data": {
      "text/plain": [
       "Graph(num_nodes={'feature': 802, 'place': 12677},\n",
       "      num_edges={('feature', 'fp', 'place'): 156301, ('place', 'pf', 'feature'): 156301},\n",
       "      metagraph=[('feature', 'place', 'fp'), ('place', 'feature', 'pf')])"
      ]
     },
     "execution_count": 206,
     "metadata": {},
     "output_type": "execute_result"
    }
   ],
   "source": [
    "graph = consrtruct_graph(all_df)\n",
    "graph"
   ]
  },
  {
   "cell_type": "markdown",
   "metadata": {},
   "source": [
    "## Create MetaPath"
   ]
  },
  {
   "cell_type": "code",
   "execution_count": 207,
   "metadata": {},
   "outputs": [],
   "source": [
    "num_walks_per_node = 5\n",
    "walk_length = 5"
   ]
  },
  {
   "cell_type": "code",
   "execution_count": 208,
   "metadata": {},
   "outputs": [],
   "source": [
    "def create_metapath(graph, place_idx2id) :\n",
    "    output_file = open(os.path.join(data_dir, 'metapath.txt'), \"w\")\n",
    "    for p_idx in trange(graph.number_of_nodes('place')):\n",
    "        traces, _ = dgl.sampling.random_walk(\n",
    "            graph, [p_idx] * num_walks_per_node, metapath=['pf', 'fp'] * walk_length)\n",
    "\n",
    "        for tr in traces:\n",
    "            tr = tr[tr[:,]!=-1]\n",
    "            outline = ''\n",
    "            for i in range(len(tr)) :\n",
    "                # i % 2 == 1 을 통해 type도 포함해서 문장 생성 가능\n",
    "                if i % 2 == 0 :\n",
    "                    outline += place_idx2id[int(tr[i])] + ' '\n",
    "            print(outline, file= output_file)"
   ]
  },
  {
   "cell_type": "code",
   "execution_count": 210,
   "metadata": {},
   "outputs": [
    {
     "name": "stderr",
     "output_type": "stream",
     "text": [
      "100%|██████████| 12677/12677 [00:08<00:00, 1553.33it/s]\n"
     ]
    }
   ],
   "source": [
    "create_metapath(graph, place_idx2id)"
   ]
  },
  {
   "cell_type": "markdown",
   "metadata": {},
   "source": [
    "## Train Metapath2vec"
   ]
  },
  {
   "cell_type": "code",
   "execution_count": 211,
   "metadata": {},
   "outputs": [],
   "source": [
    "### 문장으로 만들어 저장한 metapath2vec.txt를 불러오는 과정\n",
    "class DataReader:\n",
    "    NEGATIVE_TABLE_SIZE = 1e8\n",
    "\n",
    "    def __init__(self, file_name, min_count, care_type):\n",
    "        self.negatives = []\n",
    "        self.discards = []\n",
    "        self.negpos = 0\n",
    "        self.care_type = care_type\n",
    "        self.word2id = dict() # 임베딩 생성할 단어와 학습과정에 사용할 인덱스\n",
    "        self.id2word = dict() # 임베딩 생성할 단어와 학습과정에 사용할 인덱스\n",
    "        self.sentences_count = 0\n",
    "        self.token_count = 0\n",
    "        self.word_frequency = dict()\n",
    "        self.inputFileName = file_name\n",
    "        self.read_words(min_count)\n",
    "        self.initTableNegatives()\n",
    "        self.initTableDiscards()\n",
    "\n",
    "    def read_words(self, min_count): \n",
    "        '''\n",
    "        텍스트 파일 읽으면서 각각 단어 등장 빈도 세기\n",
    "        '''\n",
    "        print(\"Read Words...\")\n",
    "        word_frequency = dict()\n",
    "        for line in open(self.inputFileName):\n",
    "            line = line.split()\n",
    "            if len(line) > 1:\n",
    "                self.sentences_count += 1\n",
    "                for word in line:\n",
    "                    if len(word) > 0:\n",
    "                        self.token_count += 1\n",
    "                        word_frequency[word] = word_frequency.get(word, 0) + 1 # get(key, default)\n",
    "\n",
    "                        if self.token_count % 1000000 == 0:\n",
    "                            print(\"Read \" + str(int(self.token_count / 1000000)) + \"M words.\")\n",
    "\n",
    "        wid = 0\n",
    "        for w, c in word_frequency.items(): # min_count 미만인 단어는 제외하고 단어 dictionary 생성\n",
    "            if c < min_count:\n",
    "                continue\n",
    "            self.word2id[w] = wid\n",
    "            self.id2word[wid] = w\n",
    "            self.word_frequency[wid] = c\n",
    "            wid += 1\n",
    "\n",
    "        self.word_count = len(self.word2id)\n",
    "        print(\"Total embeddings: \" + str(len(self.word2id)))\n",
    "\n",
    "    def initTableDiscards(self):\n",
    "        # get a frequency table for sub-sampling. Note that the frequency is adjusted by\n",
    "        # sub-sampling tricks.\n",
    "        t = 0.0001\n",
    "        f = np.array(list(self.word_frequency.values())) / self.token_count\n",
    "        self.discards = np.sqrt(t / f) + (t / f)\n",
    "\n",
    "    def initTableNegatives(self):\n",
    "        # get a table for negative sampling, if word with index 2 appears twice, then 2 will be listed\n",
    "        # in the table twice.\n",
    "        pow_frequency = np.array(list(self.word_frequency.values())) ** 0.75\n",
    "        words_pow = sum(pow_frequency)\n",
    "        ratio = pow_frequency / words_pow\n",
    "        count = np.round(ratio * DataReader.NEGATIVE_TABLE_SIZE)\n",
    "        for wid, c in enumerate(count):\n",
    "            self.negatives += [wid] * int(c)\n",
    "        self.negatives = np.array(self.negatives)\n",
    "        np.random.shuffle(self.negatives)\n",
    "        self.sampling_prob = ratio\n",
    "\n",
    "    def getNegatives(self, target, size):  # TODO check equality with target\n",
    "        if self.care_type == 0:\n",
    "            response = self.negatives[self.negpos:self.negpos + size]\n",
    "            self.negpos = (self.negpos + size) % len(self.negatives)\n",
    "            if len(response) != size:\n",
    "                return np.concatenate((response, self.negatives[0:self.negpos]))\n",
    "        return response\n",
    "    "
   ]
  },
  {
   "cell_type": "code",
   "execution_count": 212,
   "metadata": {},
   "outputs": [],
   "source": [
    "# Metapath2vec Dataset\n",
    "class Metapath2vecDataset(Dataset):\n",
    "    def __init__(self, data, window_size):\n",
    "        # read in data, window_size and input filename\n",
    "        self.data = data\n",
    "        self.window_size = window_size # 타겟 단어 중심 몇 개의 단어를 볼 것인가\n",
    "        self.input_file = open(data.inputFileName)\n",
    "\n",
    "    def __len__(self):\n",
    "        # return the number of walks\n",
    "        return self.data.sentences_count\n",
    "\n",
    "    def __getitem__(self, idx):\n",
    "        # return the list of pairs (center, context, 5 negatives)\n",
    "        while True:\n",
    "            line = self.input_file.readline()\n",
    "            if not line:\n",
    "                self.input_file.seek(0, 0)\n",
    "                line = self.input_file.readline()\n",
    "\n",
    "            if len(line) > 1:\n",
    "                words = line.split()\n",
    "\n",
    "                if len(words) > 1:\n",
    "                    word_ids = [self.data.word2id[w] for w in words if\n",
    "                                w in self.data.word2id and np.random.rand() < self.data.discards[self.data.word2id[w]]]\n",
    "\n",
    "                    pair_catch = []\n",
    "                    for i, u in enumerate(word_ids):\n",
    "                        for j, v in enumerate(\n",
    "                                word_ids[max(i - self.window_size, 0):i + self.window_size]):\n",
    "                            assert u < self.data.word_count\n",
    "                            assert v < self.data.word_count\n",
    "                            if i == j:\n",
    "                                continue\n",
    "                            pair_catch.append((u, v, self.data.getNegatives(v,5)))\n",
    "                    return pair_catch\n",
    "\n",
    "\n",
    "    @staticmethod\n",
    "    def collate(batches):\n",
    "        all_u = np.array([u for batch in batches for u, _, _ in batch if len(batch) > 0])\n",
    "        all_v = np.array([v for batch in batches for _, v, _ in batch if len(batch) > 0])\n",
    "        all_neg_v = np.array([neg_v for batch in batches for _, _, neg_v in batch if len(batch) > 0])\n",
    "\n",
    "        return torch.LongTensor(all_u), torch.LongTensor(all_v), torch.LongTensor(all_neg_v)"
   ]
  },
  {
   "cell_type": "code",
   "execution_count": 213,
   "metadata": {},
   "outputs": [],
   "source": [
    "## SkipGram Model\n",
    "class SkipGramModel(nn.Module):\n",
    "\n",
    "    def __init__(self, emb_size, emb_dimension):\n",
    "        super(SkipGramModel, self).__init__()\n",
    "        self.emb_size = emb_size\n",
    "        self.emb_dimension = emb_dimension\n",
    "        self.u_embeddings = nn.Embedding(emb_size, emb_dimension, sparse=True)\n",
    "        self.v_embeddings = nn.Embedding(emb_size, emb_dimension, sparse=True)\n",
    "\n",
    "        initrange = 1.0 / self.emb_dimension\n",
    "        init.uniform_(self.u_embeddings.weight.data, -initrange, initrange)\n",
    "        init.constant_(self.v_embeddings.weight.data, 0)\n",
    "\n",
    "    def forward(self, pos_u, pos_v, neg_v):\n",
    "        emb_u = self.u_embeddings(pos_u)\n",
    "        emb_v = self.v_embeddings(pos_v)\n",
    "        emb_neg_v = self.v_embeddings(neg_v)\n",
    "\n",
    "        score = torch.sum(torch.mul(emb_u, emb_v), dim=1)\n",
    "        score = torch.clamp(score, max=10, min=-10)\n",
    "        score = -F.logsigmoid(score)\n",
    "\n",
    "        neg_score = torch.bmm(emb_neg_v, emb_u.unsqueeze(2)).squeeze()\n",
    "        neg_score = torch.clamp(neg_score, max=10, min=-10)\n",
    "        neg_score = -torch.sum(F.logsigmoid(-neg_score), dim=1)\n",
    "\n",
    "        return torch.mean(score + neg_score)\n",
    "\n",
    "    def save_embedding(self, id2word, file_name):\n",
    "        embedding = self.u_embeddings.weight.cpu().data.numpy()\n",
    "        with open(file_name, 'w') as f:\n",
    "            f.write('%d %d\\n' % (len(id2word), self.emb_dimension))\n",
    "            for wid, w in id2word.items():\n",
    "                e = ' '.join(map(lambda x: str(x), embedding[wid]))\n",
    "                f.write('%s %s\\n' % (w, e))"
   ]
  },
  {
   "cell_type": "code",
   "execution_count": 214,
   "metadata": {},
   "outputs": [],
   "source": [
    "# Metapath2vec \n",
    "class Metapath2VecTrainer:\n",
    "    def __init__(self, path):\n",
    "        min_count, care_type = 0, 0\n",
    "        batch_size, iterations = 50, 2\n",
    "        window_size, dim, initial_lr = 10, 128, 0.025\n",
    "        num_workers = 1\n",
    "        \n",
    "        self.data = DataReader(path, min_count, care_type)\n",
    "        dataset = Metapath2vecDataset(self.data, window_size)\n",
    "        self.dataloader = DataLoader(dataset, batch_size=batch_size,\n",
    "                                     shuffle=True, num_workers=num_workers, collate_fn=dataset.collate)\n",
    "        self.emb_size = len(self.data.word2id)\n",
    "        self.emb_dimension = dim\n",
    "        self.batch_size = batch_size\n",
    "        self.iterations = iterations\n",
    "        self.initial_lr = initial_lr\n",
    "        self.skip_gram_model = SkipGramModel(self.emb_size, self.emb_dimension)\n",
    "\n",
    "        self.use_cuda = torch.cuda.is_available()\n",
    "        self.device = torch.device(\"cuda\" if self.use_cuda else \"cpu\")\n",
    "        if self.use_cuda:\n",
    "            self.skip_gram_model.cuda()\n",
    "\n",
    "    def train(self):\n",
    "        optimizer = optim.SparseAdam(list(self.skip_gram_model.parameters()), lr=self.initial_lr)\n",
    "        scheduler = torch.optim.lr_scheduler.CosineAnnealingLR(optimizer, len(self.dataloader))\n",
    "\n",
    "        for iteration in range(self.iterations):\n",
    "            print(\"\\n\\n\\nIteration: \" + str(iteration + 1))\n",
    "            running_loss = 0.0\n",
    "            for i, sample_batched in enumerate(tqdm(self.dataloader)):\n",
    "                if len(sample_batched[0]) > 1:\n",
    "                    pos_u = sample_batched[0].to(self.device)\n",
    "                    pos_v = sample_batched[1].to(self.device)\n",
    "                    neg_v = sample_batched[2].to(self.device)\n",
    "\n",
    "                    scheduler.step()\n",
    "                    optimizer.zero_grad()\n",
    "                    loss = self.skip_gram_model.forward(pos_u, pos_v, neg_v)\n",
    "                    loss.backward()\n",
    "                    optimizer.step()\n",
    "\n",
    "                    running_loss = running_loss * 0.9 + loss.item() * 0.1\n",
    "                    if i > 0 and i % 50000 == 0:\n",
    "                        print(\" Loss: \" + str(running_loss))\n",
    "        \n",
    "        self.skip_gram_model.save_embedding(self.data.id2word, data_dir+\"metapath_embeddings\")"
   ]
  },
  {
   "cell_type": "code",
   "execution_count": 215,
   "metadata": {},
   "outputs": [
    {
     "name": "stdout",
     "output_type": "stream",
     "text": [
      "Read Words...\n",
      "Total embeddings: 12677\n"
     ]
    }
   ],
   "source": [
    "m2v = Metapath2VecTrainer(os.path.join(data_dir, \"metapath.txt\"))"
   ]
  },
  {
   "cell_type": "code",
   "execution_count": 218,
   "metadata": {},
   "outputs": [
    {
     "name": "stdout",
     "output_type": "stream",
     "text": [
      "\n",
      "\n",
      "\n",
      "Iteration: 1\n"
     ]
    },
    {
     "name": "stderr",
     "output_type": "stream",
     "text": [
      "  0%|          | 0/1268 [00:00<?, ?it/s]/opt/conda/lib/python3.8/site-packages/torch/optim/lr_scheduler.py:129: UserWarning: Detected call of `lr_scheduler.step()` before `optimizer.step()`. In PyTorch 1.1.0 and later, you should call them in the opposite order: `optimizer.step()` before `lr_scheduler.step()`.  Failure to do this will result in PyTorch skipping the first value of the learning rate schedule. See more details at https://pytorch.org/docs/stable/optim.html#how-to-adjust-learning-rate\n",
      "  warnings.warn(\"Detected call of `lr_scheduler.step()` before `optimizer.step()`. \"\n",
      "100%|██████████| 1268/1268 [00:08<00:00, 154.44it/s]\n"
     ]
    },
    {
     "name": "stdout",
     "output_type": "stream",
     "text": [
      "\n",
      "\n",
      "\n",
      "Iteration: 2\n"
     ]
    },
    {
     "name": "stderr",
     "output_type": "stream",
     "text": [
      "100%|██████████| 1268/1268 [00:08<00:00, 154.58it/s]\n"
     ]
    }
   ],
   "source": [
    "m2v.train()"
   ]
  },
  {
   "cell_type": "code",
   "execution_count": 219,
   "metadata": {},
   "outputs": [],
   "source": [
    "def create_embedding_file() :\n",
    "    with open(data_dir + 'metapath_embeddings', 'r') as f:\n",
    "        id2word_len, emb_dimension = f.readline().split()\n",
    "        id2word = {}\n",
    "        word2id = {}\n",
    "        embeddings = []\n",
    "        idx = 0\n",
    "        while True :\n",
    "            z = f.readline()\n",
    "            if not z :\n",
    "                break\n",
    "            z = z.split()\n",
    "            word = z[0]\n",
    "            embedding = list(map(float, z[1:]))\n",
    "            embeddings.append(embedding)\n",
    "            id2word[idx] = word\n",
    "            word2id[word] = idx\n",
    "            idx += 1\n",
    "    return id2word, word2id, embeddings"
   ]
  },
  {
   "cell_type": "code",
   "execution_count": null,
   "metadata": {},
   "outputs": [],
   "source": [
    "id2place, place2id, place_emb = create_embedding_file()"
   ]
  }
 ],
 "metadata": {
  "interpreter": {
   "hash": "d4d1e4263499bec80672ea0156c357c1ee493ec2b1c70f0acce89fc37c4a6abe"
  },
  "kernelspec": {
   "display_name": "Python ('lightgcn')",
   "language": "python",
   "name": "python3"
  },
  "language_info": {
   "codemirror_mode": {
    "name": "ipython",
    "version": 3
   },
   "file_extension": ".py",
   "mimetype": "text/x-python",
   "name": "python",
   "nbconvert_exporter": "python",
   "pygments_lexer": "ipython3",
   "version": "3.8.5"
  },
  "orig_nbformat": 4
 },
 "nbformat": 4,
 "nbformat_minor": 2
}
